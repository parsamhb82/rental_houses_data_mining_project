{
 "cells": [
  {
   "cell_type": "markdown",
   "metadata": {
    "id": "nviA814edopd"
   },
   "source": [
    "<font face=\"B Mitra\" size=4>\n",
    "<div dir=rtl align=center>\n",
    "<br>\n",
    "<img src=\"https://aut.ac.ir/templates/tmpl_modern01/images/logo_fa.png\" alt=\"Amirkabir University Logo\" width=\"100\">\n",
    "<br>\n",
    "<font size=6>\n",
    "<b>پروژه اول داده کاوی</b>\n",
    "<br>\n",
    "<font size=5> استاد درس: دکتر فاطمه شاکری\n",
    "<br>\n",
    "<font size=5> طراحان پروژه: مهدی غیاثی، سینا ارزبین\n",
    "<br>\n",
    "<font size=4> پاییز ۱۴۰۳\n",
    "<hr>\n",
    "</div>\n",
    "</font>"
   ]
  },
  {
   "cell_type": "markdown",
   "metadata": {
    "id": "V3kRcWHodopf"
   },
   "source": [
    "<font face=\"B Nazanin\">\n",
    "<div dir=rtl>\n",
    "<p align=\"justify\">\n",
    "<font size=5><font color='#eb4034'>\n",
    "توجه داشته باشید علاوه بر پیاده سازی خواسته شده، توضیحات لازم در محل تعریف شده را بیان کنید.\n",
    "</p>\n",
    "</font>\n",
    "</div>\n",
    "</font>"
   ]
  },
  {
   "cell_type": "markdown",
   "metadata": {
    "id": "0BXWVb5Gdopf"
   },
   "source": [
    "<div dir=rtl>\n",
    "<h2>\n",
    "<font face=\"B Nazanin\" color=\"#0099cc\">\n",
    "بارگذاری کتابخانه های مورد نیاز"
   ]
  },
  {
   "cell_type": "markdown",
   "metadata": {},
   "source": [
    "<font face=\"B Nazanin\">\n",
    "<div dir=rtl>\n",
    "<p align=\"justify\">\n",
    "<font size=4><font color='#eb4034'>\n",
    "شما تنها مجاز به استفاده از کتابخانه‌های import شده در سلول زیر هستید.\n",
    "</p>\n",
    "</font>\n",
    "</div>\n",
    "</font>"
   ]
  },
  {
   "cell_type": "code",
   "execution_count": 51,
   "metadata": {
    "id": "B31gxsfydopg"
   },
   "outputs": [],
   "source": [
    "import pandas as pd\n",
    "import numpy as np\n",
    "import matplotlib.pyplot as plt\n",
    "import seaborn as sns\n",
    "# برای رسم نمودار‌های واضح‌تر، خط زیر را آنکامنت کنید\n",
    "# %config InlineBackend.figure_formats = ['svg']"
   ]
  },
  {
   "cell_type": "markdown",
   "metadata": {
    "id": "j-7ryZdcdoph"
   },
   "source": [
    "<div dir=rtl>\n",
    "<h2>\n",
    "<font face=\"B Nazanin\" color=\"#0099cc\">\n",
    "بارگذاری مجموعه داده"
   ]
  },
  {
   "cell_type": "code",
   "execution_count": 52,
   "metadata": {
    "id": "1KmLCEN4doph"
   },
   "outputs": [
    {
     "data": {
      "text/html": [
       "<div>\n",
       "<style scoped>\n",
       "    .dataframe tbody tr th:only-of-type {\n",
       "        vertical-align: middle;\n",
       "    }\n",
       "\n",
       "    .dataframe tbody tr th {\n",
       "        vertical-align: top;\n",
       "    }\n",
       "\n",
       "    .dataframe thead th {\n",
       "        text-align: right;\n",
       "    }\n",
       "</style>\n",
       "<table border=\"1\" class=\"dataframe\">\n",
       "  <thead>\n",
       "    <tr style=\"text-align: right;\">\n",
       "      <th></th>\n",
       "      <th>title</th>\n",
       "      <th>amenities</th>\n",
       "      <th>bathrooms</th>\n",
       "      <th>bedrooms</th>\n",
       "      <th>fee</th>\n",
       "      <th>has_photo</th>\n",
       "      <th>pets_allowed</th>\n",
       "      <th>price</th>\n",
       "      <th>square_feet</th>\n",
       "      <th>cityname</th>\n",
       "      <th>state</th>\n",
       "      <th>latitude</th>\n",
       "      <th>longitude</th>\n",
       "      <th>source</th>\n",
       "      <th>time</th>\n",
       "    </tr>\n",
       "  </thead>\n",
       "  <tbody>\n",
       "    <tr>\n",
       "      <th>0</th>\n",
       "      <td>Thomas Ninke Senior Village</td>\n",
       "      <td>AC,Cable or Satellite,Clubhouse,Dishwasher,Gat...</td>\n",
       "      <td>1.0</td>\n",
       "      <td>1.0</td>\n",
       "      <td>No</td>\n",
       "      <td>Thumbnail</td>\n",
       "      <td>Cats,Dogs</td>\n",
       "      <td>337.0</td>\n",
       "      <td>617</td>\n",
       "      <td>Victoria</td>\n",
       "      <td>TX</td>\n",
       "      <td>28.696040</td>\n",
       "      <td>-97.164089</td>\n",
       "      <td>RentDigs.com</td>\n",
       "      <td>1547715453</td>\n",
       "    </tr>\n",
       "    <tr>\n",
       "      <th>1</th>\n",
       "      <td>Average Rent $1,284 a month - That's a STEAL. ...</td>\n",
       "      <td>Parking,Patio/Deck,Pool,Washer Dryer</td>\n",
       "      <td>1.0</td>\n",
       "      <td>1.0</td>\n",
       "      <td>No</td>\n",
       "      <td>Yes</td>\n",
       "      <td>Cats,Dogs</td>\n",
       "      <td>1284.0</td>\n",
       "      <td>728</td>\n",
       "      <td>Dallas</td>\n",
       "      <td>TX</td>\n",
       "      <td>32.851338</td>\n",
       "      <td>-96.817635</td>\n",
       "      <td>RentDigs.com</td>\n",
       "      <td>1568757960</td>\n",
       "    </tr>\n",
       "    <tr>\n",
       "      <th>2</th>\n",
       "      <td>Super Cute! Apartment for Rent. $923/mo</td>\n",
       "      <td>Fireplace,Gym,Pool,Tennis,Washer Dryer</td>\n",
       "      <td>1.0</td>\n",
       "      <td>1.0</td>\n",
       "      <td>No</td>\n",
       "      <td>Thumbnail</td>\n",
       "      <td>Cats,Dogs</td>\n",
       "      <td>923.0</td>\n",
       "      <td>510</td>\n",
       "      <td>Richmond</td>\n",
       "      <td>VA</td>\n",
       "      <td>37.530061</td>\n",
       "      <td>-77.476208</td>\n",
       "      <td>RentDigs.com</td>\n",
       "      <td>1568744171</td>\n",
       "    </tr>\n",
       "    <tr>\n",
       "      <th>3</th>\n",
       "      <td>Apartment in move in condition in Loganville</td>\n",
       "      <td>NaN</td>\n",
       "      <td>2.0</td>\n",
       "      <td>4.0</td>\n",
       "      <td>No</td>\n",
       "      <td>Yes</td>\n",
       "      <td>NaN</td>\n",
       "      <td>1595.0</td>\n",
       "      <td>1950</td>\n",
       "      <td>Loganville</td>\n",
       "      <td>GA</td>\n",
       "      <td>33.795894</td>\n",
       "      <td>-83.877143</td>\n",
       "      <td>RentDigs.com</td>\n",
       "      <td>1568777003</td>\n",
       "    </tr>\n",
       "    <tr>\n",
       "      <th>4</th>\n",
       "      <td>$2,000 / Three BR - Great Deal. MUST SEE!</td>\n",
       "      <td>Dishwasher,Garbage Disposal,Parking,Refrigerat...</td>\n",
       "      <td>2.0</td>\n",
       "      <td>3.0</td>\n",
       "      <td>No</td>\n",
       "      <td>Yes</td>\n",
       "      <td>Cats,Dogs</td>\n",
       "      <td>2000.0</td>\n",
       "      <td>1600</td>\n",
       "      <td>Chicago</td>\n",
       "      <td>IL</td>\n",
       "      <td>42.005037</td>\n",
       "      <td>-87.681448</td>\n",
       "      <td>RentDigs.com</td>\n",
       "      <td>1544237300</td>\n",
       "    </tr>\n",
       "  </tbody>\n",
       "</table>\n",
       "</div>"
      ],
      "text/plain": [
       "                                               title  \\\n",
       "0                        Thomas Ninke Senior Village   \n",
       "1  Average Rent $1,284 a month - That's a STEAL. ...   \n",
       "2            Super Cute! Apartment for Rent. $923/mo   \n",
       "3       Apartment in move in condition in Loganville   \n",
       "4          $2,000 / Three BR - Great Deal. MUST SEE!   \n",
       "\n",
       "                                           amenities  bathrooms  bedrooms fee  \\\n",
       "0  AC,Cable or Satellite,Clubhouse,Dishwasher,Gat...        1.0       1.0  No   \n",
       "1               Parking,Patio/Deck,Pool,Washer Dryer        1.0       1.0  No   \n",
       "2             Fireplace,Gym,Pool,Tennis,Washer Dryer        1.0       1.0  No   \n",
       "3                                                NaN        2.0       4.0  No   \n",
       "4  Dishwasher,Garbage Disposal,Parking,Refrigerat...        2.0       3.0  No   \n",
       "\n",
       "   has_photo pets_allowed   price  square_feet    cityname state   latitude  \\\n",
       "0  Thumbnail    Cats,Dogs   337.0          617    Victoria    TX  28.696040   \n",
       "1        Yes    Cats,Dogs  1284.0          728      Dallas    TX  32.851338   \n",
       "2  Thumbnail    Cats,Dogs   923.0          510    Richmond    VA  37.530061   \n",
       "3        Yes          NaN  1595.0         1950  Loganville    GA  33.795894   \n",
       "4        Yes    Cats,Dogs  2000.0         1600     Chicago    IL  42.005037   \n",
       "\n",
       "   longitude        source        time  \n",
       "0 -97.164089  RentDigs.com  1547715453  \n",
       "1 -96.817635  RentDigs.com  1568757960  \n",
       "2 -77.476208  RentDigs.com  1568744171  \n",
       "3 -83.877143  RentDigs.com  1568777003  \n",
       "4 -87.681448  RentDigs.com  1544237300  "
      ]
     },
     "execution_count": 52,
     "metadata": {},
     "output_type": "execute_result"
    }
   ],
   "source": [
    "data = pd.read_csv(\"apartment_rent.csv\")\n",
    "data.head(5)"
   ]
  },
  {
   "cell_type": "markdown",
   "metadata": {
    "id": "nIhDVgx3dopi"
   },
   "source": [
    "<div dir=rtl>\n",
    "<h2>\n",
    "<font face=\"B Nazanin\" color=\"#0099cc\">\n",
    "پیش پردازش\n",
    "</font>\n",
    "</h2>\n",
    "\n",
    "<div dir=rtl>\n",
    "<font face=\"B Nazanin\" size=4>\n",
    "ابعاد داده را چاپ کنید.\n",
    "</font>\n",
    "</p>\n",
    "\n"
   ]
  },
  {
   "cell_type": "code",
   "execution_count": 53,
   "metadata": {
    "id": "lfD0y7y1dopi"
   },
   "outputs": [
    {
     "name": "stdout",
     "output_type": "stream",
     "text": [
      "Dimensions of the DataFrame: (99788, 15)\n"
     ]
    }
   ],
   "source": [
    "print(\"Dimensions of the DataFrame:\", data.shape)"
   ]
  },
  {
   "cell_type": "markdown",
   "metadata": {
    "id": "DqTGQi42dopj"
   },
   "source": [
    "\n",
    "<div dir=rtl>\n",
    "<font face=\"B Nazanin\" size=4>\n",
    "رکوردهای تکراری را در مجموعه داده بررسی کنید و درصورت نیاز حذف کنید.\n",
    "</font>\n",
    "</p>"
   ]
  },
  {
   "cell_type": "code",
   "execution_count": 54,
   "metadata": {
    "id": "GXZweW32dopk"
   },
   "outputs": [
    {
     "name": "stdout",
     "output_type": "stream",
     "text": [
      "Number of duplicates: 86\n"
     ]
    }
   ],
   "source": [
    "# show duplicates\n",
    "print('Number of duplicates:', data.duplicated().sum())"
   ]
  },
  {
   "cell_type": "code",
   "execution_count": 55,
   "metadata": {
    "id": "wlV9hRs3dopk"
   },
   "outputs": [
    {
     "data": {
      "text/plain": [
       "(99702, 15)"
      ]
     },
     "execution_count": 55,
     "metadata": {},
     "output_type": "execute_result"
    }
   ],
   "source": [
    "# if there are duplicates, drop them\n",
    "data = data.drop_duplicates()\n",
    "data.shape"
   ]
  },
  {
   "cell_type": "markdown",
   "metadata": {
    "id": "mIwkkE85dopm"
   },
   "source": [
    "<div dir=rtl>\n",
    "<font face=\"B Nazanin\" size=4>\n",
    "در حال حاضر ویژگی <code>title</code> ارزش اطلاعاتی ندارد، این ستون را حذف کنید.\n",
    "\n",
    "</font>\n",
    "</p>"
   ]
  },
  {
   "cell_type": "code",
   "execution_count": 56,
   "metadata": {
    "id": "tKyZ5-2Rdopm"
   },
   "outputs": [
    {
     "data": {
      "text/html": [
       "<div>\n",
       "<style scoped>\n",
       "    .dataframe tbody tr th:only-of-type {\n",
       "        vertical-align: middle;\n",
       "    }\n",
       "\n",
       "    .dataframe tbody tr th {\n",
       "        vertical-align: top;\n",
       "    }\n",
       "\n",
       "    .dataframe thead th {\n",
       "        text-align: right;\n",
       "    }\n",
       "</style>\n",
       "<table border=\"1\" class=\"dataframe\">\n",
       "  <thead>\n",
       "    <tr style=\"text-align: right;\">\n",
       "      <th></th>\n",
       "      <th>amenities</th>\n",
       "      <th>bathrooms</th>\n",
       "      <th>bedrooms</th>\n",
       "      <th>fee</th>\n",
       "      <th>has_photo</th>\n",
       "      <th>pets_allowed</th>\n",
       "      <th>price</th>\n",
       "      <th>square_feet</th>\n",
       "      <th>cityname</th>\n",
       "      <th>state</th>\n",
       "      <th>latitude</th>\n",
       "      <th>longitude</th>\n",
       "      <th>source</th>\n",
       "      <th>time</th>\n",
       "    </tr>\n",
       "  </thead>\n",
       "  <tbody>\n",
       "    <tr>\n",
       "      <th>0</th>\n",
       "      <td>AC,Cable or Satellite,Clubhouse,Dishwasher,Gat...</td>\n",
       "      <td>1.0</td>\n",
       "      <td>1.0</td>\n",
       "      <td>No</td>\n",
       "      <td>Thumbnail</td>\n",
       "      <td>Cats,Dogs</td>\n",
       "      <td>337.0</td>\n",
       "      <td>617</td>\n",
       "      <td>Victoria</td>\n",
       "      <td>TX</td>\n",
       "      <td>28.696040</td>\n",
       "      <td>-97.164089</td>\n",
       "      <td>RentDigs.com</td>\n",
       "      <td>1547715453</td>\n",
       "    </tr>\n",
       "    <tr>\n",
       "      <th>1</th>\n",
       "      <td>Parking,Patio/Deck,Pool,Washer Dryer</td>\n",
       "      <td>1.0</td>\n",
       "      <td>1.0</td>\n",
       "      <td>No</td>\n",
       "      <td>Yes</td>\n",
       "      <td>Cats,Dogs</td>\n",
       "      <td>1284.0</td>\n",
       "      <td>728</td>\n",
       "      <td>Dallas</td>\n",
       "      <td>TX</td>\n",
       "      <td>32.851338</td>\n",
       "      <td>-96.817635</td>\n",
       "      <td>RentDigs.com</td>\n",
       "      <td>1568757960</td>\n",
       "    </tr>\n",
       "    <tr>\n",
       "      <th>2</th>\n",
       "      <td>Fireplace,Gym,Pool,Tennis,Washer Dryer</td>\n",
       "      <td>1.0</td>\n",
       "      <td>1.0</td>\n",
       "      <td>No</td>\n",
       "      <td>Thumbnail</td>\n",
       "      <td>Cats,Dogs</td>\n",
       "      <td>923.0</td>\n",
       "      <td>510</td>\n",
       "      <td>Richmond</td>\n",
       "      <td>VA</td>\n",
       "      <td>37.530061</td>\n",
       "      <td>-77.476208</td>\n",
       "      <td>RentDigs.com</td>\n",
       "      <td>1568744171</td>\n",
       "    </tr>\n",
       "    <tr>\n",
       "      <th>3</th>\n",
       "      <td>NaN</td>\n",
       "      <td>2.0</td>\n",
       "      <td>4.0</td>\n",
       "      <td>No</td>\n",
       "      <td>Yes</td>\n",
       "      <td>NaN</td>\n",
       "      <td>1595.0</td>\n",
       "      <td>1950</td>\n",
       "      <td>Loganville</td>\n",
       "      <td>GA</td>\n",
       "      <td>33.795894</td>\n",
       "      <td>-83.877143</td>\n",
       "      <td>RentDigs.com</td>\n",
       "      <td>1568777003</td>\n",
       "    </tr>\n",
       "    <tr>\n",
       "      <th>4</th>\n",
       "      <td>Dishwasher,Garbage Disposal,Parking,Refrigerat...</td>\n",
       "      <td>2.0</td>\n",
       "      <td>3.0</td>\n",
       "      <td>No</td>\n",
       "      <td>Yes</td>\n",
       "      <td>Cats,Dogs</td>\n",
       "      <td>2000.0</td>\n",
       "      <td>1600</td>\n",
       "      <td>Chicago</td>\n",
       "      <td>IL</td>\n",
       "      <td>42.005037</td>\n",
       "      <td>-87.681448</td>\n",
       "      <td>RentDigs.com</td>\n",
       "      <td>1544237300</td>\n",
       "    </tr>\n",
       "  </tbody>\n",
       "</table>\n",
       "</div>"
      ],
      "text/plain": [
       "                                           amenities  bathrooms  bedrooms fee  \\\n",
       "0  AC,Cable or Satellite,Clubhouse,Dishwasher,Gat...        1.0       1.0  No   \n",
       "1               Parking,Patio/Deck,Pool,Washer Dryer        1.0       1.0  No   \n",
       "2             Fireplace,Gym,Pool,Tennis,Washer Dryer        1.0       1.0  No   \n",
       "3                                                NaN        2.0       4.0  No   \n",
       "4  Dishwasher,Garbage Disposal,Parking,Refrigerat...        2.0       3.0  No   \n",
       "\n",
       "   has_photo pets_allowed   price  square_feet    cityname state   latitude  \\\n",
       "0  Thumbnail    Cats,Dogs   337.0          617    Victoria    TX  28.696040   \n",
       "1        Yes    Cats,Dogs  1284.0          728      Dallas    TX  32.851338   \n",
       "2  Thumbnail    Cats,Dogs   923.0          510    Richmond    VA  37.530061   \n",
       "3        Yes          NaN  1595.0         1950  Loganville    GA  33.795894   \n",
       "4        Yes    Cats,Dogs  2000.0         1600     Chicago    IL  42.005037   \n",
       "\n",
       "   longitude        source        time  \n",
       "0 -97.164089  RentDigs.com  1547715453  \n",
       "1 -96.817635  RentDigs.com  1568757960  \n",
       "2 -77.476208  RentDigs.com  1568744171  \n",
       "3 -83.877143  RentDigs.com  1568777003  \n",
       "4 -87.681448  RentDigs.com  1544237300  "
      ]
     },
     "execution_count": 56,
     "metadata": {},
     "output_type": "execute_result"
    }
   ],
   "source": [
    "data = data.drop('title', axis=1)\n",
    "data.head()"
   ]
  },
  {
   "cell_type": "markdown",
   "metadata": {
    "id": "GLTabOEjdopn"
   },
   "source": [
    "<div dir=rtl>\n",
    "<font face=\"B Nazanin\" size=4>\n",
    " مقادیر گمشده را در مجموعه داده بررسی کنید.\n",
    "</font>\n",
    "</p>"
   ]
  },
  {
   "cell_type": "code",
   "execution_count": 57,
   "metadata": {
    "id": "MRe0PykSdopn"
   },
   "outputs": [
    {
     "name": "stdout",
     "output_type": "stream",
     "text": [
      "Number of NaN values in each column:\n",
      "amenities       16049\n",
      "bathrooms          61\n",
      "bedrooms          122\n",
      "fee                 0\n",
      "has_photo           0\n",
      "pets_allowed    60544\n",
      "price               1\n",
      "square_feet         0\n",
      "cityname          302\n",
      "state             302\n",
      "latitude           25\n",
      "longitude          25\n",
      "source              0\n",
      "time                0\n",
      "dtype: int64\n"
     ]
    }
   ],
   "source": [
    "nan_counts = data.isna().sum()\n",
    "\n",
    "# Print the number of NaNs in each column\n",
    "print(\"Number of NaN values in each column:\")\n",
    "print(nan_counts)"
   ]
  },
  {
   "cell_type": "markdown",
   "metadata": {
    "id": "O3GaHMHNdopn"
   },
   "source": [
    "<div dir=rtl>\n",
    "<h4>\n",
    "<font face=\"B Nazanin\">\n",
    "<b>مدیریت مقادیر گم‌شده</b>\n",
    "</font>\n",
    "</h4>\n",
    "<div dir=rtl>\n",
    "<font face=\"B Nazanin\" size=4>\n",
    "ستون <code>amenities</code> که نشان‌دهنده‌ی امکانات رفاهی خانه‌ها است، مقادیر گم‌‌شده‌ی بسیار زیادی دارد. \n",
    "در مورد این ویژگی خاص، نمی‌توان قضاوت نمود که آیا مقادیر واقعا گم‌شده هستند یا اینکه هیچ‌گونه امکانات رفاهی برای یک آگهی ثبت نشده است.\n",
    "به هر حال مقادیر گم‌شده این ویژگی را با مقدار <code>'none advertised'</code> جایگزین کنید.\n",
    "<br>\n",
    "ستون <code>pets_allowed</code> نیز وضعیت مشابهی با ستون <code>amenities</code> دارد. مقادیر گم‌شده این ستون را با مقدار پیش‌فرض <code>No</code>\n",
    "جایگزین کنید.  </font>\n",
    "</p>"
   ]
  },
  {
   "cell_type": "code",
   "execution_count": 58,
   "metadata": {
    "id": "G57FomLrdopo"
   },
   "outputs": [
    {
     "name": "stdout",
     "output_type": "stream",
     "text": [
      "Number of NaN values in each column:\n",
      "amenities         0\n",
      "bathrooms        61\n",
      "bedrooms        122\n",
      "fee               0\n",
      "has_photo         0\n",
      "pets_allowed      0\n",
      "price             1\n",
      "square_feet       0\n",
      "cityname        302\n",
      "state           302\n",
      "latitude         25\n",
      "longitude        25\n",
      "source            0\n",
      "time              0\n",
      "dtype: int64\n"
     ]
    }
   ],
   "source": [
    "data[\"amenities\"] = data[\"amenities\"].fillna(\"none advertised\")\n",
    "data[\"pets_allowed\"] = data[\"pets_allowed\"].fillna(\"no\")\n",
    "nan_counts = data.isna().sum()\n",
    "\n",
    "# Print the number of NaNs in each column\n",
    "print(\"Number of NaN values in each column:\")\n",
    "print(nan_counts)\n"
   ]
  },
  {
   "cell_type": "code",
   "execution_count": 59,
   "metadata": {},
   "outputs": [
    {
     "data": {
      "text/html": [
       "<div>\n",
       "<style scoped>\n",
       "    .dataframe tbody tr th:only-of-type {\n",
       "        vertical-align: middle;\n",
       "    }\n",
       "\n",
       "    .dataframe tbody tr th {\n",
       "        vertical-align: top;\n",
       "    }\n",
       "\n",
       "    .dataframe thead th {\n",
       "        text-align: right;\n",
       "    }\n",
       "</style>\n",
       "<table border=\"1\" class=\"dataframe\">\n",
       "  <thead>\n",
       "    <tr style=\"text-align: right;\">\n",
       "      <th></th>\n",
       "      <th>amenities</th>\n",
       "      <th>bathrooms</th>\n",
       "      <th>bedrooms</th>\n",
       "      <th>fee</th>\n",
       "      <th>has_photo</th>\n",
       "      <th>pets_allowed</th>\n",
       "      <th>price</th>\n",
       "      <th>square_feet</th>\n",
       "      <th>cityname</th>\n",
       "      <th>state</th>\n",
       "      <th>latitude</th>\n",
       "      <th>longitude</th>\n",
       "      <th>source</th>\n",
       "      <th>time</th>\n",
       "    </tr>\n",
       "  </thead>\n",
       "  <tbody>\n",
       "    <tr>\n",
       "      <th>0</th>\n",
       "      <td>AC,Cable or Satellite,Clubhouse,Dishwasher,Gat...</td>\n",
       "      <td>1.0</td>\n",
       "      <td>1.0</td>\n",
       "      <td>No</td>\n",
       "      <td>Thumbnail</td>\n",
       "      <td>Cats,Dogs</td>\n",
       "      <td>337.0</td>\n",
       "      <td>617</td>\n",
       "      <td>Victoria</td>\n",
       "      <td>TX</td>\n",
       "      <td>28.696040</td>\n",
       "      <td>-97.164089</td>\n",
       "      <td>RentDigs.com</td>\n",
       "      <td>1547715453</td>\n",
       "    </tr>\n",
       "    <tr>\n",
       "      <th>1</th>\n",
       "      <td>Parking,Patio/Deck,Pool,Washer Dryer</td>\n",
       "      <td>1.0</td>\n",
       "      <td>1.0</td>\n",
       "      <td>No</td>\n",
       "      <td>Yes</td>\n",
       "      <td>Cats,Dogs</td>\n",
       "      <td>1284.0</td>\n",
       "      <td>728</td>\n",
       "      <td>Dallas</td>\n",
       "      <td>TX</td>\n",
       "      <td>32.851338</td>\n",
       "      <td>-96.817635</td>\n",
       "      <td>RentDigs.com</td>\n",
       "      <td>1568757960</td>\n",
       "    </tr>\n",
       "    <tr>\n",
       "      <th>2</th>\n",
       "      <td>Fireplace,Gym,Pool,Tennis,Washer Dryer</td>\n",
       "      <td>1.0</td>\n",
       "      <td>1.0</td>\n",
       "      <td>No</td>\n",
       "      <td>Thumbnail</td>\n",
       "      <td>Cats,Dogs</td>\n",
       "      <td>923.0</td>\n",
       "      <td>510</td>\n",
       "      <td>Richmond</td>\n",
       "      <td>VA</td>\n",
       "      <td>37.530061</td>\n",
       "      <td>-77.476208</td>\n",
       "      <td>RentDigs.com</td>\n",
       "      <td>1568744171</td>\n",
       "    </tr>\n",
       "    <tr>\n",
       "      <th>3</th>\n",
       "      <td>none advertised</td>\n",
       "      <td>2.0</td>\n",
       "      <td>4.0</td>\n",
       "      <td>No</td>\n",
       "      <td>Yes</td>\n",
       "      <td>no</td>\n",
       "      <td>1595.0</td>\n",
       "      <td>1950</td>\n",
       "      <td>Loganville</td>\n",
       "      <td>GA</td>\n",
       "      <td>33.795894</td>\n",
       "      <td>-83.877143</td>\n",
       "      <td>RentDigs.com</td>\n",
       "      <td>1568777003</td>\n",
       "    </tr>\n",
       "    <tr>\n",
       "      <th>4</th>\n",
       "      <td>Dishwasher,Garbage Disposal,Parking,Refrigerat...</td>\n",
       "      <td>2.0</td>\n",
       "      <td>3.0</td>\n",
       "      <td>No</td>\n",
       "      <td>Yes</td>\n",
       "      <td>Cats,Dogs</td>\n",
       "      <td>2000.0</td>\n",
       "      <td>1600</td>\n",
       "      <td>Chicago</td>\n",
       "      <td>IL</td>\n",
       "      <td>42.005037</td>\n",
       "      <td>-87.681448</td>\n",
       "      <td>RentDigs.com</td>\n",
       "      <td>1544237300</td>\n",
       "    </tr>\n",
       "    <tr>\n",
       "      <th>...</th>\n",
       "      <td>...</td>\n",
       "      <td>...</td>\n",
       "      <td>...</td>\n",
       "      <td>...</td>\n",
       "      <td>...</td>\n",
       "      <td>...</td>\n",
       "      <td>...</td>\n",
       "      <td>...</td>\n",
       "      <td>...</td>\n",
       "      <td>...</td>\n",
       "      <td>...</td>\n",
       "      <td>...</td>\n",
       "      <td>...</td>\n",
       "      <td>...</td>\n",
       "    </tr>\n",
       "    <tr>\n",
       "      <th>99783</th>\n",
       "      <td>Clubhouse,Gym,Internet Access,Parking,Pool,Sto...</td>\n",
       "      <td>2.0</td>\n",
       "      <td>2.0</td>\n",
       "      <td>No</td>\n",
       "      <td>Yes</td>\n",
       "      <td>no</td>\n",
       "      <td>765.0</td>\n",
       "      <td>1053</td>\n",
       "      <td>Lynchburg</td>\n",
       "      <td>VA</td>\n",
       "      <td>37.333672</td>\n",
       "      <td>-79.218679</td>\n",
       "      <td>RentDigs.com</td>\n",
       "      <td>1550863545</td>\n",
       "    </tr>\n",
       "    <tr>\n",
       "      <th>99784</th>\n",
       "      <td>none advertised</td>\n",
       "      <td>1.0</td>\n",
       "      <td>1.0</td>\n",
       "      <td>No</td>\n",
       "      <td>Thumbnail</td>\n",
       "      <td>Cats,Dogs</td>\n",
       "      <td>1245.0</td>\n",
       "      <td>635</td>\n",
       "      <td>Atlanta</td>\n",
       "      <td>GA</td>\n",
       "      <td>33.727126</td>\n",
       "      <td>-84.381276</td>\n",
       "      <td>RentDigs.com</td>\n",
       "      <td>1550829088</td>\n",
       "    </tr>\n",
       "    <tr>\n",
       "      <th>99785</th>\n",
       "      <td>Gym,Pool,Storage</td>\n",
       "      <td>1.0</td>\n",
       "      <td>1.0</td>\n",
       "      <td>No</td>\n",
       "      <td>Thumbnail</td>\n",
       "      <td>no</td>\n",
       "      <td>2394.0</td>\n",
       "      <td>948</td>\n",
       "      <td>Arlington</td>\n",
       "      <td>VA</td>\n",
       "      <td>38.861943</td>\n",
       "      <td>-77.072875</td>\n",
       "      <td>RentDigs.com</td>\n",
       "      <td>1550839231</td>\n",
       "    </tr>\n",
       "    <tr>\n",
       "      <th>99786</th>\n",
       "      <td>none advertised</td>\n",
       "      <td>1.0</td>\n",
       "      <td>1.0</td>\n",
       "      <td>No</td>\n",
       "      <td>Thumbnail</td>\n",
       "      <td>Cats,Dogs</td>\n",
       "      <td>1145.0</td>\n",
       "      <td>620</td>\n",
       "      <td>NaN</td>\n",
       "      <td>NaN</td>\n",
       "      <td>39.825470</td>\n",
       "      <td>-98.535754</td>\n",
       "      <td>RentLingo</td>\n",
       "      <td>1577017091</td>\n",
       "    </tr>\n",
       "    <tr>\n",
       "      <th>99787</th>\n",
       "      <td>Basketball,Pool,Tennis,Wood Floors</td>\n",
       "      <td>1.0</td>\n",
       "      <td>1.0</td>\n",
       "      <td>No</td>\n",
       "      <td>Yes</td>\n",
       "      <td>no</td>\n",
       "      <td>1614.0</td>\n",
       "      <td>695</td>\n",
       "      <td>Bothell</td>\n",
       "      <td>WA</td>\n",
       "      <td>47.770281</td>\n",
       "      <td>-122.172596</td>\n",
       "      <td>RentDigs.com</td>\n",
       "      <td>1568769006</td>\n",
       "    </tr>\n",
       "  </tbody>\n",
       "</table>\n",
       "<p>99702 rows × 14 columns</p>\n",
       "</div>"
      ],
      "text/plain": [
       "                                               amenities  bathrooms  bedrooms  \\\n",
       "0      AC,Cable or Satellite,Clubhouse,Dishwasher,Gat...        1.0       1.0   \n",
       "1                   Parking,Patio/Deck,Pool,Washer Dryer        1.0       1.0   \n",
       "2                 Fireplace,Gym,Pool,Tennis,Washer Dryer        1.0       1.0   \n",
       "3                                        none advertised        2.0       4.0   \n",
       "4      Dishwasher,Garbage Disposal,Parking,Refrigerat...        2.0       3.0   \n",
       "...                                                  ...        ...       ...   \n",
       "99783  Clubhouse,Gym,Internet Access,Parking,Pool,Sto...        2.0       2.0   \n",
       "99784                                    none advertised        1.0       1.0   \n",
       "99785                                   Gym,Pool,Storage        1.0       1.0   \n",
       "99786                                    none advertised        1.0       1.0   \n",
       "99787                 Basketball,Pool,Tennis,Wood Floors        1.0       1.0   \n",
       "\n",
       "      fee  has_photo pets_allowed   price  square_feet    cityname state  \\\n",
       "0      No  Thumbnail    Cats,Dogs   337.0          617    Victoria    TX   \n",
       "1      No        Yes    Cats,Dogs  1284.0          728      Dallas    TX   \n",
       "2      No  Thumbnail    Cats,Dogs   923.0          510    Richmond    VA   \n",
       "3      No        Yes           no  1595.0         1950  Loganville    GA   \n",
       "4      No        Yes    Cats,Dogs  2000.0         1600     Chicago    IL   \n",
       "...    ..        ...          ...     ...          ...         ...   ...   \n",
       "99783  No        Yes           no   765.0         1053   Lynchburg    VA   \n",
       "99784  No  Thumbnail    Cats,Dogs  1245.0          635     Atlanta    GA   \n",
       "99785  No  Thumbnail           no  2394.0          948   Arlington    VA   \n",
       "99786  No  Thumbnail    Cats,Dogs  1145.0          620         NaN   NaN   \n",
       "99787  No        Yes           no  1614.0          695     Bothell    WA   \n",
       "\n",
       "        latitude   longitude        source        time  \n",
       "0      28.696040  -97.164089  RentDigs.com  1547715453  \n",
       "1      32.851338  -96.817635  RentDigs.com  1568757960  \n",
       "2      37.530061  -77.476208  RentDigs.com  1568744171  \n",
       "3      33.795894  -83.877143  RentDigs.com  1568777003  \n",
       "4      42.005037  -87.681448  RentDigs.com  1544237300  \n",
       "...          ...         ...           ...         ...  \n",
       "99783  37.333672  -79.218679  RentDigs.com  1550863545  \n",
       "99784  33.727126  -84.381276  RentDigs.com  1550829088  \n",
       "99785  38.861943  -77.072875  RentDigs.com  1550839231  \n",
       "99786  39.825470  -98.535754     RentLingo  1577017091  \n",
       "99787  47.770281 -122.172596  RentDigs.com  1568769006  \n",
       "\n",
       "[99702 rows x 14 columns]"
      ]
     },
     "execution_count": 59,
     "metadata": {},
     "output_type": "execute_result"
    }
   ],
   "source": [
    "data"
   ]
  },
  {
   "cell_type": "markdown",
   "metadata": {
    "id": "D3bM-4c0dopo"
   },
   "source": [
    "<div dir=rtl>\n",
    "<font face=\"B Nazanin\" size=4>\n",
    "مقادیر گم‌شده ستون‌های <code>bathrooms</code> و <code>bedrooms</code> را قصد داریم با یکی از سه معیار آماری میانگین، میانه یا مد ستون‌ها پر کنیم.\n",
    "<br>\n",
    "</font>\n",
    "</p>\n",
    "\n",
    "<div dir=rtl>\n",
    "<font face=\"B Nazanin\" size=4>\n",
    "به نظر شما کدام معیار آماری برای پر کردن مقادیر گم‌شده این ستون‌ها مناسب است؟ چرا؟\n",
    "در ادامه با معیار گفته شده مقادیر گم‌شده را پر کنید.\n",
    "<br>\n",
    "</font>\n",
    "</p>"
   ]
  },
  {
   "cell_type": "code",
   "execution_count": 60,
   "metadata": {
    "id": "93-D-3Epdopo"
   },
   "outputs": [
    {
     "name": "stdout",
     "output_type": "stream",
     "text": [
      "bathrooms_mode:  0    1.0\n",
      "Name: bathrooms, dtype: float64\n",
      "bedrooms_mode  0    2.0\n",
      "Name: bedrooms, dtype: float64\n",
      "bathrooms_mean:  1.445188225730372\n",
      "bedrooms_mean  1.7276963245631654\n"
     ]
    }
   ],
   "source": [
    "bathrooms_mode = data[\"bathrooms\"].mode()\n",
    "bedrooms_mode = data[\"bedrooms\"].mode()\n",
    "print(\"bathrooms_mode: \", bathrooms_mode)\n",
    "print(\"bedrooms_mode \", bedrooms_mode)\n",
    "bathrooms_mean = data[\"bathrooms\"].mean()\n",
    "bedrooms_mean = data[\"bedrooms\"].mean()\n",
    "print(\"bathrooms_mean: \", bathrooms_mean)\n",
    "print(\"bedrooms_mean \", bedrooms_mean)"
   ]
  },
  {
   "cell_type": "code",
   "execution_count": 61,
   "metadata": {},
   "outputs": [
    {
     "data": {
      "text/html": [
       "<div>\n",
       "<style scoped>\n",
       "    .dataframe tbody tr th:only-of-type {\n",
       "        vertical-align: middle;\n",
       "    }\n",
       "\n",
       "    .dataframe tbody tr th {\n",
       "        vertical-align: top;\n",
       "    }\n",
       "\n",
       "    .dataframe thead th {\n",
       "        text-align: right;\n",
       "    }\n",
       "</style>\n",
       "<table border=\"1\" class=\"dataframe\">\n",
       "  <thead>\n",
       "    <tr style=\"text-align: right;\">\n",
       "      <th></th>\n",
       "      <th>amenities</th>\n",
       "      <th>bathrooms</th>\n",
       "      <th>bedrooms</th>\n",
       "      <th>fee</th>\n",
       "      <th>has_photo</th>\n",
       "      <th>pets_allowed</th>\n",
       "      <th>price</th>\n",
       "      <th>square_feet</th>\n",
       "      <th>cityname</th>\n",
       "      <th>state</th>\n",
       "      <th>latitude</th>\n",
       "      <th>longitude</th>\n",
       "      <th>source</th>\n",
       "      <th>time</th>\n",
       "    </tr>\n",
       "  </thead>\n",
       "  <tbody>\n",
       "    <tr>\n",
       "      <th>0</th>\n",
       "      <td>AC,Cable or Satellite,Clubhouse,Dishwasher,Gat...</td>\n",
       "      <td>1.0</td>\n",
       "      <td>1.0</td>\n",
       "      <td>No</td>\n",
       "      <td>Thumbnail</td>\n",
       "      <td>Cats,Dogs</td>\n",
       "      <td>337.0</td>\n",
       "      <td>617</td>\n",
       "      <td>Victoria</td>\n",
       "      <td>TX</td>\n",
       "      <td>28.696040</td>\n",
       "      <td>-97.164089</td>\n",
       "      <td>RentDigs.com</td>\n",
       "      <td>1547715453</td>\n",
       "    </tr>\n",
       "    <tr>\n",
       "      <th>1</th>\n",
       "      <td>Parking,Patio/Deck,Pool,Washer Dryer</td>\n",
       "      <td>1.0</td>\n",
       "      <td>1.0</td>\n",
       "      <td>No</td>\n",
       "      <td>Yes</td>\n",
       "      <td>Cats,Dogs</td>\n",
       "      <td>1284.0</td>\n",
       "      <td>728</td>\n",
       "      <td>Dallas</td>\n",
       "      <td>TX</td>\n",
       "      <td>32.851338</td>\n",
       "      <td>-96.817635</td>\n",
       "      <td>RentDigs.com</td>\n",
       "      <td>1568757960</td>\n",
       "    </tr>\n",
       "    <tr>\n",
       "      <th>2</th>\n",
       "      <td>Fireplace,Gym,Pool,Tennis,Washer Dryer</td>\n",
       "      <td>1.0</td>\n",
       "      <td>1.0</td>\n",
       "      <td>No</td>\n",
       "      <td>Thumbnail</td>\n",
       "      <td>Cats,Dogs</td>\n",
       "      <td>923.0</td>\n",
       "      <td>510</td>\n",
       "      <td>Richmond</td>\n",
       "      <td>VA</td>\n",
       "      <td>37.530061</td>\n",
       "      <td>-77.476208</td>\n",
       "      <td>RentDigs.com</td>\n",
       "      <td>1568744171</td>\n",
       "    </tr>\n",
       "    <tr>\n",
       "      <th>3</th>\n",
       "      <td>none advertised</td>\n",
       "      <td>2.0</td>\n",
       "      <td>4.0</td>\n",
       "      <td>No</td>\n",
       "      <td>Yes</td>\n",
       "      <td>no</td>\n",
       "      <td>1595.0</td>\n",
       "      <td>1950</td>\n",
       "      <td>Loganville</td>\n",
       "      <td>GA</td>\n",
       "      <td>33.795894</td>\n",
       "      <td>-83.877143</td>\n",
       "      <td>RentDigs.com</td>\n",
       "      <td>1568777003</td>\n",
       "    </tr>\n",
       "    <tr>\n",
       "      <th>4</th>\n",
       "      <td>Dishwasher,Garbage Disposal,Parking,Refrigerat...</td>\n",
       "      <td>2.0</td>\n",
       "      <td>3.0</td>\n",
       "      <td>No</td>\n",
       "      <td>Yes</td>\n",
       "      <td>Cats,Dogs</td>\n",
       "      <td>2000.0</td>\n",
       "      <td>1600</td>\n",
       "      <td>Chicago</td>\n",
       "      <td>IL</td>\n",
       "      <td>42.005037</td>\n",
       "      <td>-87.681448</td>\n",
       "      <td>RentDigs.com</td>\n",
       "      <td>1544237300</td>\n",
       "    </tr>\n",
       "    <tr>\n",
       "      <th>...</th>\n",
       "      <td>...</td>\n",
       "      <td>...</td>\n",
       "      <td>...</td>\n",
       "      <td>...</td>\n",
       "      <td>...</td>\n",
       "      <td>...</td>\n",
       "      <td>...</td>\n",
       "      <td>...</td>\n",
       "      <td>...</td>\n",
       "      <td>...</td>\n",
       "      <td>...</td>\n",
       "      <td>...</td>\n",
       "      <td>...</td>\n",
       "      <td>...</td>\n",
       "    </tr>\n",
       "    <tr>\n",
       "      <th>99783</th>\n",
       "      <td>Clubhouse,Gym,Internet Access,Parking,Pool,Sto...</td>\n",
       "      <td>2.0</td>\n",
       "      <td>2.0</td>\n",
       "      <td>No</td>\n",
       "      <td>Yes</td>\n",
       "      <td>no</td>\n",
       "      <td>765.0</td>\n",
       "      <td>1053</td>\n",
       "      <td>Lynchburg</td>\n",
       "      <td>VA</td>\n",
       "      <td>37.333672</td>\n",
       "      <td>-79.218679</td>\n",
       "      <td>RentDigs.com</td>\n",
       "      <td>1550863545</td>\n",
       "    </tr>\n",
       "    <tr>\n",
       "      <th>99784</th>\n",
       "      <td>none advertised</td>\n",
       "      <td>1.0</td>\n",
       "      <td>1.0</td>\n",
       "      <td>No</td>\n",
       "      <td>Thumbnail</td>\n",
       "      <td>Cats,Dogs</td>\n",
       "      <td>1245.0</td>\n",
       "      <td>635</td>\n",
       "      <td>Atlanta</td>\n",
       "      <td>GA</td>\n",
       "      <td>33.727126</td>\n",
       "      <td>-84.381276</td>\n",
       "      <td>RentDigs.com</td>\n",
       "      <td>1550829088</td>\n",
       "    </tr>\n",
       "    <tr>\n",
       "      <th>99785</th>\n",
       "      <td>Gym,Pool,Storage</td>\n",
       "      <td>1.0</td>\n",
       "      <td>1.0</td>\n",
       "      <td>No</td>\n",
       "      <td>Thumbnail</td>\n",
       "      <td>no</td>\n",
       "      <td>2394.0</td>\n",
       "      <td>948</td>\n",
       "      <td>Arlington</td>\n",
       "      <td>VA</td>\n",
       "      <td>38.861943</td>\n",
       "      <td>-77.072875</td>\n",
       "      <td>RentDigs.com</td>\n",
       "      <td>1550839231</td>\n",
       "    </tr>\n",
       "    <tr>\n",
       "      <th>99786</th>\n",
       "      <td>none advertised</td>\n",
       "      <td>1.0</td>\n",
       "      <td>1.0</td>\n",
       "      <td>No</td>\n",
       "      <td>Thumbnail</td>\n",
       "      <td>Cats,Dogs</td>\n",
       "      <td>1145.0</td>\n",
       "      <td>620</td>\n",
       "      <td>NaN</td>\n",
       "      <td>NaN</td>\n",
       "      <td>39.825470</td>\n",
       "      <td>-98.535754</td>\n",
       "      <td>RentLingo</td>\n",
       "      <td>1577017091</td>\n",
       "    </tr>\n",
       "    <tr>\n",
       "      <th>99787</th>\n",
       "      <td>Basketball,Pool,Tennis,Wood Floors</td>\n",
       "      <td>1.0</td>\n",
       "      <td>1.0</td>\n",
       "      <td>No</td>\n",
       "      <td>Yes</td>\n",
       "      <td>no</td>\n",
       "      <td>1614.0</td>\n",
       "      <td>695</td>\n",
       "      <td>Bothell</td>\n",
       "      <td>WA</td>\n",
       "      <td>47.770281</td>\n",
       "      <td>-122.172596</td>\n",
       "      <td>RentDigs.com</td>\n",
       "      <td>1568769006</td>\n",
       "    </tr>\n",
       "  </tbody>\n",
       "</table>\n",
       "<p>99702 rows × 14 columns</p>\n",
       "</div>"
      ],
      "text/plain": [
       "                                               amenities  bathrooms  bedrooms  \\\n",
       "0      AC,Cable or Satellite,Clubhouse,Dishwasher,Gat...        1.0       1.0   \n",
       "1                   Parking,Patio/Deck,Pool,Washer Dryer        1.0       1.0   \n",
       "2                 Fireplace,Gym,Pool,Tennis,Washer Dryer        1.0       1.0   \n",
       "3                                        none advertised        2.0       4.0   \n",
       "4      Dishwasher,Garbage Disposal,Parking,Refrigerat...        2.0       3.0   \n",
       "...                                                  ...        ...       ...   \n",
       "99783  Clubhouse,Gym,Internet Access,Parking,Pool,Sto...        2.0       2.0   \n",
       "99784                                    none advertised        1.0       1.0   \n",
       "99785                                   Gym,Pool,Storage        1.0       1.0   \n",
       "99786                                    none advertised        1.0       1.0   \n",
       "99787                 Basketball,Pool,Tennis,Wood Floors        1.0       1.0   \n",
       "\n",
       "      fee  has_photo pets_allowed   price  square_feet    cityname state  \\\n",
       "0      No  Thumbnail    Cats,Dogs   337.0          617    Victoria    TX   \n",
       "1      No        Yes    Cats,Dogs  1284.0          728      Dallas    TX   \n",
       "2      No  Thumbnail    Cats,Dogs   923.0          510    Richmond    VA   \n",
       "3      No        Yes           no  1595.0         1950  Loganville    GA   \n",
       "4      No        Yes    Cats,Dogs  2000.0         1600     Chicago    IL   \n",
       "...    ..        ...          ...     ...          ...         ...   ...   \n",
       "99783  No        Yes           no   765.0         1053   Lynchburg    VA   \n",
       "99784  No  Thumbnail    Cats,Dogs  1245.0          635     Atlanta    GA   \n",
       "99785  No  Thumbnail           no  2394.0          948   Arlington    VA   \n",
       "99786  No  Thumbnail    Cats,Dogs  1145.0          620         NaN   NaN   \n",
       "99787  No        Yes           no  1614.0          695     Bothell    WA   \n",
       "\n",
       "        latitude   longitude        source        time  \n",
       "0      28.696040  -97.164089  RentDigs.com  1547715453  \n",
       "1      32.851338  -96.817635  RentDigs.com  1568757960  \n",
       "2      37.530061  -77.476208  RentDigs.com  1568744171  \n",
       "3      33.795894  -83.877143  RentDigs.com  1568777003  \n",
       "4      42.005037  -87.681448  RentDigs.com  1544237300  \n",
       "...          ...         ...           ...         ...  \n",
       "99783  37.333672  -79.218679  RentDigs.com  1550863545  \n",
       "99784  33.727126  -84.381276  RentDigs.com  1550829088  \n",
       "99785  38.861943  -77.072875  RentDigs.com  1550839231  \n",
       "99786  39.825470  -98.535754     RentLingo  1577017091  \n",
       "99787  47.770281 -122.172596  RentDigs.com  1568769006  \n",
       "\n",
       "[99702 rows x 14 columns]"
      ]
     },
     "execution_count": 61,
     "metadata": {},
     "output_type": "execute_result"
    }
   ],
   "source": [
    "data[\"bathrooms\"] = data[\"bathrooms\"].fillna(data['bathrooms'].mode()[0])\n",
    "data[\"bedrooms\"] = data[\"bedrooms\"].fillna(data[\"bedrooms\"].mode()[0])\n",
    "data"
   ]
  },
  {
   "cell_type": "code",
   "execution_count": 62,
   "metadata": {},
   "outputs": [
    {
     "name": "stdout",
     "output_type": "stream",
     "text": [
      "Number of NaN values in each column:\n",
      "amenities         0\n",
      "bathrooms         0\n",
      "bedrooms          0\n",
      "fee               0\n",
      "has_photo         0\n",
      "pets_allowed      0\n",
      "price             1\n",
      "square_feet       0\n",
      "cityname        302\n",
      "state           302\n",
      "latitude         25\n",
      "longitude        25\n",
      "source            0\n",
      "time              0\n",
      "dtype: int64\n"
     ]
    }
   ],
   "source": [
    "nan_counts = data.isna().sum()\n",
    "\n",
    "# Print the number of NaNs in each column\n",
    "print(\"Number of NaN values in each column:\")\n",
    "print(nan_counts)"
   ]
  },
  {
   "cell_type": "markdown",
   "metadata": {
    "id": "0TywY0jndopo"
   },
   "source": [
    "<div dir=rtl>\n",
    "<font face=\"B Nazanin\">\n",
    "<p align=\"justify\">\n",
    "<font size=4>\n",
    "<b> <font color='#eb4034'> توضیحات پاسخ: </font></b>  برای این داده ها چون که داده هایمان گسسته هستند پس بهتر است یک مقدار گسسته در آن بگذاریم گرفتن میانه که اشتباه است سراغ مد و میانگین میریم برای اینکه ببینیم کدام بهتر است ابتدا هم میانگین و هم مد داده هارا حساب میکنیم میبینیم که نزدیک ترین عدد صحیح به میانگین داده ها همان مد آن ها میشود پس در اینجا بهتر است که از مد داده ها استفاده کنیم\n",
    "</p>\n",
    "</font>\n",
    "</div>\n",
    "</font>\n",
    "<hr>"
   ]
  },
  {
   "cell_type": "markdown",
   "metadata": {
    "id": "Ixyff8Q2dopp"
   },
   "source": [
    "<div dir=rtl>\n",
    "<font face=\"B Nazanin\" size=4>\n",
    "پس از آن سطرهایی که مقدار <code>cityname</code> یا <code>latitude</code> یا <code>price</code> آن‌ها خالی است را حذف کنید.\n",
    "</font>\n",
    "</p>"
   ]
  },
  {
   "cell_type": "code",
   "execution_count": 63,
   "metadata": {
    "id": "aaP93i3_dopp"
   },
   "outputs": [],
   "source": [
    "data = data.dropna(subset=[\"cityname\", \"latitude\", \"price\"])"
   ]
  },
  {
   "cell_type": "markdown",
   "metadata": {
    "id": "FNHYAFhhdopp"
   },
   "source": [
    "<div dir=rtl>\n",
    "<font face=\"B Nazanin\" size=4>\n",
    "حال در صورتی که به درستی بخش‌های قبلی را انجام داده باشید، دیتافریم باید 99399 سطر داشته باشد و هیچ مقدار گم‌شده‌ای نداشته باشیم. با متد <code>()info</code> اطلاعات دیتافریم را بررسی کنید.\n",
    "</font>\n",
    "</p>"
   ]
  },
  {
   "cell_type": "code",
   "execution_count": 64,
   "metadata": {
    "id": "E_P8sMdidopp"
   },
   "outputs": [
    {
     "name": "stdout",
     "output_type": "stream",
     "text": [
      "<class 'pandas.core.frame.DataFrame'>\n",
      "Index: 99399 entries, 0 to 99787\n",
      "Data columns (total 14 columns):\n",
      " #   Column        Non-Null Count  Dtype  \n",
      "---  ------        --------------  -----  \n",
      " 0   amenities     99399 non-null  object \n",
      " 1   bathrooms     99399 non-null  float64\n",
      " 2   bedrooms      99399 non-null  float64\n",
      " 3   fee           99399 non-null  object \n",
      " 4   has_photo     99399 non-null  object \n",
      " 5   pets_allowed  99399 non-null  object \n",
      " 6   price         99399 non-null  float64\n",
      " 7   square_feet   99399 non-null  int64  \n",
      " 8   cityname      99399 non-null  object \n",
      " 9   state         99399 non-null  object \n",
      " 10  latitude      99399 non-null  float64\n",
      " 11  longitude     99399 non-null  float64\n",
      " 12  source        99399 non-null  object \n",
      " 13  time          99399 non-null  int64  \n",
      "dtypes: float64(5), int64(2), object(7)\n",
      "memory usage: 11.4+ MB\n"
     ]
    }
   ],
   "source": [
    "\n",
    "data.info()"
   ]
  },
  {
   "cell_type": "markdown",
   "metadata": {
    "id": "lKMMnRmMdopq"
   },
   "source": [
    "<div dir=rtl>\n",
    "<font face=\"B Nazanin\" size=4>\n",
    "ویژگی \n",
    "<code>time</code>\n",
    "به فرمت Unix Time ذخیره شده است که نوع دادهٔ مناسبی برای تحلیل سایر ویژگی‌ها بر اساس تاریخ نیست.\n",
    "ابتدا آن را به قالبی مناسب در آوردیم.\n",
    "<br>\n",
    "\n",
    "</font>\n",
    "</p>"
   ]
  },
  {
   "cell_type": "code",
   "execution_count": 65,
   "metadata": {
    "id": "zpjXEIItdopq"
   },
   "outputs": [
    {
     "name": "stderr",
     "output_type": "stream",
     "text": [
      "/tmp/ipykernel_31973/2285960318.py:1: SettingWithCopyWarning: \n",
      "A value is trying to be set on a copy of a slice from a DataFrame.\n",
      "Try using .loc[row_indexer,col_indexer] = value instead\n",
      "\n",
      "See the caveats in the documentation: https://pandas.pydata.org/pandas-docs/stable/user_guide/indexing.html#returning-a-view-versus-a-copy\n",
      "  data['time'] = pd.to_datetime(data['time'], unit='s')\n"
     ]
    },
    {
     "data": {
      "text/html": [
       "<div>\n",
       "<style scoped>\n",
       "    .dataframe tbody tr th:only-of-type {\n",
       "        vertical-align: middle;\n",
       "    }\n",
       "\n",
       "    .dataframe tbody tr th {\n",
       "        vertical-align: top;\n",
       "    }\n",
       "\n",
       "    .dataframe thead th {\n",
       "        text-align: right;\n",
       "    }\n",
       "</style>\n",
       "<table border=\"1\" class=\"dataframe\">\n",
       "  <thead>\n",
       "    <tr style=\"text-align: right;\">\n",
       "      <th></th>\n",
       "      <th>amenities</th>\n",
       "      <th>bathrooms</th>\n",
       "      <th>bedrooms</th>\n",
       "      <th>fee</th>\n",
       "      <th>has_photo</th>\n",
       "      <th>pets_allowed</th>\n",
       "      <th>price</th>\n",
       "      <th>square_feet</th>\n",
       "      <th>cityname</th>\n",
       "      <th>state</th>\n",
       "      <th>latitude</th>\n",
       "      <th>longitude</th>\n",
       "      <th>source</th>\n",
       "      <th>time</th>\n",
       "    </tr>\n",
       "  </thead>\n",
       "  <tbody>\n",
       "    <tr>\n",
       "      <th>0</th>\n",
       "      <td>AC,Cable or Satellite,Clubhouse,Dishwasher,Gat...</td>\n",
       "      <td>1.0</td>\n",
       "      <td>1.0</td>\n",
       "      <td>No</td>\n",
       "      <td>Thumbnail</td>\n",
       "      <td>Cats,Dogs</td>\n",
       "      <td>337.0</td>\n",
       "      <td>617</td>\n",
       "      <td>Victoria</td>\n",
       "      <td>TX</td>\n",
       "      <td>28.696040</td>\n",
       "      <td>-97.164089</td>\n",
       "      <td>RentDigs.com</td>\n",
       "      <td>2019-01-17 08:57:33</td>\n",
       "    </tr>\n",
       "    <tr>\n",
       "      <th>1</th>\n",
       "      <td>Parking,Patio/Deck,Pool,Washer Dryer</td>\n",
       "      <td>1.0</td>\n",
       "      <td>1.0</td>\n",
       "      <td>No</td>\n",
       "      <td>Yes</td>\n",
       "      <td>Cats,Dogs</td>\n",
       "      <td>1284.0</td>\n",
       "      <td>728</td>\n",
       "      <td>Dallas</td>\n",
       "      <td>TX</td>\n",
       "      <td>32.851338</td>\n",
       "      <td>-96.817635</td>\n",
       "      <td>RentDigs.com</td>\n",
       "      <td>2019-09-17 22:06:00</td>\n",
       "    </tr>\n",
       "    <tr>\n",
       "      <th>2</th>\n",
       "      <td>Fireplace,Gym,Pool,Tennis,Washer Dryer</td>\n",
       "      <td>1.0</td>\n",
       "      <td>1.0</td>\n",
       "      <td>No</td>\n",
       "      <td>Thumbnail</td>\n",
       "      <td>Cats,Dogs</td>\n",
       "      <td>923.0</td>\n",
       "      <td>510</td>\n",
       "      <td>Richmond</td>\n",
       "      <td>VA</td>\n",
       "      <td>37.530061</td>\n",
       "      <td>-77.476208</td>\n",
       "      <td>RentDigs.com</td>\n",
       "      <td>2019-09-17 18:16:11</td>\n",
       "    </tr>\n",
       "    <tr>\n",
       "      <th>3</th>\n",
       "      <td>none advertised</td>\n",
       "      <td>2.0</td>\n",
       "      <td>4.0</td>\n",
       "      <td>No</td>\n",
       "      <td>Yes</td>\n",
       "      <td>no</td>\n",
       "      <td>1595.0</td>\n",
       "      <td>1950</td>\n",
       "      <td>Loganville</td>\n",
       "      <td>GA</td>\n",
       "      <td>33.795894</td>\n",
       "      <td>-83.877143</td>\n",
       "      <td>RentDigs.com</td>\n",
       "      <td>2019-09-18 03:23:23</td>\n",
       "    </tr>\n",
       "    <tr>\n",
       "      <th>4</th>\n",
       "      <td>Dishwasher,Garbage Disposal,Parking,Refrigerat...</td>\n",
       "      <td>2.0</td>\n",
       "      <td>3.0</td>\n",
       "      <td>No</td>\n",
       "      <td>Yes</td>\n",
       "      <td>Cats,Dogs</td>\n",
       "      <td>2000.0</td>\n",
       "      <td>1600</td>\n",
       "      <td>Chicago</td>\n",
       "      <td>IL</td>\n",
       "      <td>42.005037</td>\n",
       "      <td>-87.681448</td>\n",
       "      <td>RentDigs.com</td>\n",
       "      <td>2018-12-08 02:48:20</td>\n",
       "    </tr>\n",
       "  </tbody>\n",
       "</table>\n",
       "</div>"
      ],
      "text/plain": [
       "                                           amenities  bathrooms  bedrooms fee  \\\n",
       "0  AC,Cable or Satellite,Clubhouse,Dishwasher,Gat...        1.0       1.0  No   \n",
       "1               Parking,Patio/Deck,Pool,Washer Dryer        1.0       1.0  No   \n",
       "2             Fireplace,Gym,Pool,Tennis,Washer Dryer        1.0       1.0  No   \n",
       "3                                    none advertised        2.0       4.0  No   \n",
       "4  Dishwasher,Garbage Disposal,Parking,Refrigerat...        2.0       3.0  No   \n",
       "\n",
       "   has_photo pets_allowed   price  square_feet    cityname state   latitude  \\\n",
       "0  Thumbnail    Cats,Dogs   337.0          617    Victoria    TX  28.696040   \n",
       "1        Yes    Cats,Dogs  1284.0          728      Dallas    TX  32.851338   \n",
       "2  Thumbnail    Cats,Dogs   923.0          510    Richmond    VA  37.530061   \n",
       "3        Yes           no  1595.0         1950  Loganville    GA  33.795894   \n",
       "4        Yes    Cats,Dogs  2000.0         1600     Chicago    IL  42.005037   \n",
       "\n",
       "   longitude        source                time  \n",
       "0 -97.164089  RentDigs.com 2019-01-17 08:57:33  \n",
       "1 -96.817635  RentDigs.com 2019-09-17 22:06:00  \n",
       "2 -77.476208  RentDigs.com 2019-09-17 18:16:11  \n",
       "3 -83.877143  RentDigs.com 2019-09-18 03:23:23  \n",
       "4 -87.681448  RentDigs.com 2018-12-08 02:48:20  "
      ]
     },
     "execution_count": 65,
     "metadata": {},
     "output_type": "execute_result"
    }
   ],
   "source": [
    "data['time'] = pd.to_datetime(data['time'], unit='s')\n",
    "data.head()"
   ]
  },
  {
   "cell_type": "markdown",
   "metadata": {
    "id": "jHIPNR-Ddopr"
   },
   "source": [
    "<div dir=rtl>\n",
    "<font face=\"B Nazanin\" size=4>\n",
    "هر یک از مقادیر روز هفته، ماه و سال را از ویژگی\n",
    "<code>time</code>\n",
    "استخراج کنید و در یک ستون جداگانه قرار دهید تا بتوانیم تحلیل هایی در ارتباط با تاریخ در ادامه انجام دهیم.\n",
    "<br>\n",
    "درنهایت ستون\n",
    "<code>time</code>\n",
    "را حذف کنید.\n",
    "\n",
    "</font>\n",
    "</p>"
   ]
  },
  {
   "cell_type": "code",
   "execution_count": 66,
   "metadata": {
    "id": "SzhUfiRPdopr"
   },
   "outputs": [
    {
     "name": "stderr",
     "output_type": "stream",
     "text": [
      "/tmp/ipykernel_31973/3720780477.py:2: SettingWithCopyWarning: \n",
      "A value is trying to be set on a copy of a slice from a DataFrame.\n",
      "Try using .loc[row_indexer,col_indexer] = value instead\n",
      "\n",
      "See the caveats in the documentation: https://pandas.pydata.org/pandas-docs/stable/user_guide/indexing.html#returning-a-view-versus-a-copy\n",
      "  data[\"day\"] = data[\"time\"].dt.day\n",
      "/tmp/ipykernel_31973/3720780477.py:5: SettingWithCopyWarning: \n",
      "A value is trying to be set on a copy of a slice from a DataFrame.\n",
      "Try using .loc[row_indexer,col_indexer] = value instead\n",
      "\n",
      "See the caveats in the documentation: https://pandas.pydata.org/pandas-docs/stable/user_guide/indexing.html#returning-a-view-versus-a-copy\n",
      "  data['month'] = data['time'].dt.month\n",
      "/tmp/ipykernel_31973/3720780477.py:8: SettingWithCopyWarning: \n",
      "A value is trying to be set on a copy of a slice from a DataFrame.\n",
      "Try using .loc[row_indexer,col_indexer] = value instead\n",
      "\n",
      "See the caveats in the documentation: https://pandas.pydata.org/pandas-docs/stable/user_guide/indexing.html#returning-a-view-versus-a-copy\n",
      "  data['year'] = data['time'].dt.year\n",
      "/tmp/ipykernel_31973/3720780477.py:11: SettingWithCopyWarning: \n",
      "A value is trying to be set on a copy of a slice from a DataFrame\n",
      "\n",
      "See the caveats in the documentation: https://pandas.pydata.org/pandas-docs/stable/user_guide/indexing.html#returning-a-view-versus-a-copy\n",
      "  data.drop(columns=['time'], inplace=True)\n"
     ]
    },
    {
     "data": {
      "text/html": [
       "<div>\n",
       "<style scoped>\n",
       "    .dataframe tbody tr th:only-of-type {\n",
       "        vertical-align: middle;\n",
       "    }\n",
       "\n",
       "    .dataframe tbody tr th {\n",
       "        vertical-align: top;\n",
       "    }\n",
       "\n",
       "    .dataframe thead th {\n",
       "        text-align: right;\n",
       "    }\n",
       "</style>\n",
       "<table border=\"1\" class=\"dataframe\">\n",
       "  <thead>\n",
       "    <tr style=\"text-align: right;\">\n",
       "      <th></th>\n",
       "      <th>amenities</th>\n",
       "      <th>bathrooms</th>\n",
       "      <th>bedrooms</th>\n",
       "      <th>fee</th>\n",
       "      <th>has_photo</th>\n",
       "      <th>pets_allowed</th>\n",
       "      <th>price</th>\n",
       "      <th>square_feet</th>\n",
       "      <th>cityname</th>\n",
       "      <th>state</th>\n",
       "      <th>latitude</th>\n",
       "      <th>longitude</th>\n",
       "      <th>source</th>\n",
       "      <th>day</th>\n",
       "      <th>month</th>\n",
       "      <th>year</th>\n",
       "    </tr>\n",
       "  </thead>\n",
       "  <tbody>\n",
       "    <tr>\n",
       "      <th>0</th>\n",
       "      <td>AC,Cable or Satellite,Clubhouse,Dishwasher,Gat...</td>\n",
       "      <td>1.0</td>\n",
       "      <td>1.0</td>\n",
       "      <td>No</td>\n",
       "      <td>Thumbnail</td>\n",
       "      <td>Cats,Dogs</td>\n",
       "      <td>337.0</td>\n",
       "      <td>617</td>\n",
       "      <td>Victoria</td>\n",
       "      <td>TX</td>\n",
       "      <td>28.696040</td>\n",
       "      <td>-97.164089</td>\n",
       "      <td>RentDigs.com</td>\n",
       "      <td>17</td>\n",
       "      <td>1</td>\n",
       "      <td>2019</td>\n",
       "    </tr>\n",
       "    <tr>\n",
       "      <th>1</th>\n",
       "      <td>Parking,Patio/Deck,Pool,Washer Dryer</td>\n",
       "      <td>1.0</td>\n",
       "      <td>1.0</td>\n",
       "      <td>No</td>\n",
       "      <td>Yes</td>\n",
       "      <td>Cats,Dogs</td>\n",
       "      <td>1284.0</td>\n",
       "      <td>728</td>\n",
       "      <td>Dallas</td>\n",
       "      <td>TX</td>\n",
       "      <td>32.851338</td>\n",
       "      <td>-96.817635</td>\n",
       "      <td>RentDigs.com</td>\n",
       "      <td>17</td>\n",
       "      <td>9</td>\n",
       "      <td>2019</td>\n",
       "    </tr>\n",
       "    <tr>\n",
       "      <th>2</th>\n",
       "      <td>Fireplace,Gym,Pool,Tennis,Washer Dryer</td>\n",
       "      <td>1.0</td>\n",
       "      <td>1.0</td>\n",
       "      <td>No</td>\n",
       "      <td>Thumbnail</td>\n",
       "      <td>Cats,Dogs</td>\n",
       "      <td>923.0</td>\n",
       "      <td>510</td>\n",
       "      <td>Richmond</td>\n",
       "      <td>VA</td>\n",
       "      <td>37.530061</td>\n",
       "      <td>-77.476208</td>\n",
       "      <td>RentDigs.com</td>\n",
       "      <td>17</td>\n",
       "      <td>9</td>\n",
       "      <td>2019</td>\n",
       "    </tr>\n",
       "    <tr>\n",
       "      <th>3</th>\n",
       "      <td>none advertised</td>\n",
       "      <td>2.0</td>\n",
       "      <td>4.0</td>\n",
       "      <td>No</td>\n",
       "      <td>Yes</td>\n",
       "      <td>no</td>\n",
       "      <td>1595.0</td>\n",
       "      <td>1950</td>\n",
       "      <td>Loganville</td>\n",
       "      <td>GA</td>\n",
       "      <td>33.795894</td>\n",
       "      <td>-83.877143</td>\n",
       "      <td>RentDigs.com</td>\n",
       "      <td>18</td>\n",
       "      <td>9</td>\n",
       "      <td>2019</td>\n",
       "    </tr>\n",
       "    <tr>\n",
       "      <th>4</th>\n",
       "      <td>Dishwasher,Garbage Disposal,Parking,Refrigerat...</td>\n",
       "      <td>2.0</td>\n",
       "      <td>3.0</td>\n",
       "      <td>No</td>\n",
       "      <td>Yes</td>\n",
       "      <td>Cats,Dogs</td>\n",
       "      <td>2000.0</td>\n",
       "      <td>1600</td>\n",
       "      <td>Chicago</td>\n",
       "      <td>IL</td>\n",
       "      <td>42.005037</td>\n",
       "      <td>-87.681448</td>\n",
       "      <td>RentDigs.com</td>\n",
       "      <td>8</td>\n",
       "      <td>12</td>\n",
       "      <td>2018</td>\n",
       "    </tr>\n",
       "  </tbody>\n",
       "</table>\n",
       "</div>"
      ],
      "text/plain": [
       "                                           amenities  bathrooms  bedrooms fee  \\\n",
       "0  AC,Cable or Satellite,Clubhouse,Dishwasher,Gat...        1.0       1.0  No   \n",
       "1               Parking,Patio/Deck,Pool,Washer Dryer        1.0       1.0  No   \n",
       "2             Fireplace,Gym,Pool,Tennis,Washer Dryer        1.0       1.0  No   \n",
       "3                                    none advertised        2.0       4.0  No   \n",
       "4  Dishwasher,Garbage Disposal,Parking,Refrigerat...        2.0       3.0  No   \n",
       "\n",
       "   has_photo pets_allowed   price  square_feet    cityname state   latitude  \\\n",
       "0  Thumbnail    Cats,Dogs   337.0          617    Victoria    TX  28.696040   \n",
       "1        Yes    Cats,Dogs  1284.0          728      Dallas    TX  32.851338   \n",
       "2  Thumbnail    Cats,Dogs   923.0          510    Richmond    VA  37.530061   \n",
       "3        Yes           no  1595.0         1950  Loganville    GA  33.795894   \n",
       "4        Yes    Cats,Dogs  2000.0         1600     Chicago    IL  42.005037   \n",
       "\n",
       "   longitude        source  day  month  year  \n",
       "0 -97.164089  RentDigs.com   17      1  2019  \n",
       "1 -96.817635  RentDigs.com   17      9  2019  \n",
       "2 -77.476208  RentDigs.com   17      9  2019  \n",
       "3 -83.877143  RentDigs.com   18      9  2019  \n",
       "4 -87.681448  RentDigs.com    8     12  2018  "
      ]
     },
     "execution_count": 66,
     "metadata": {},
     "output_type": "execute_result"
    }
   ],
   "source": [
    "# extract the Year out of the date\n",
    "data[\"day\"] = data[\"time\"].dt.day\n",
    "\n",
    "# extract the month out of the date\n",
    "data['month'] = data['time'].dt.month\n",
    "\n",
    "# extract the day out of the date\n",
    "data['year'] = data['time'].dt.year\n",
    "\n",
    "# Drop the 'time' column\n",
    "data.drop(columns=['time'], inplace=True)\n",
    "\n",
    "data.head()"
   ]
  },
  {
   "cell_type": "markdown",
   "metadata": {
    "id": "f-L7MNMfdopr"
   },
   "source": [
    "<div dir=rtl>\n",
    "<h4>\n",
    "<font face=\"B Nazanin\">\n",
    "<b>مدیریت داده‌های پرت</b>\n",
    "</font>\n",
    "</h4>\n",
    "\n",
    "<div dir=rtl>\n",
    "<font face=\"B Nazanin\" size=4>\n",
    "ممکن است خانه‌هایی بسیار بزرگ یا بسیار گران باشند یا برعکس، خانه‌‌هایی باشند که بیش از حد ارزان یا کوچک بوده و فاصله‌ی بسیاری با میانگین داشته‌ باشند. در بعضی امور تحلیل داده‌ای، داده‌های پرت می‌توانند نتایج را به نحو نامطلوب تحت تاثیر قرار دهند.\n",
    "برای مثال، داده‌های پرت می‌توانند باعث غلط‌انداز و یا نامفهوم شدن نمودار‌ها شوند و یا الگوریتم‌های یادگیری ماشین را به اشتباه بیاندازند.\n",
    "در این قسمت، بعضی از خانه‌هایی که یک یا چند ویژگی پرت یا غیرمعمول دارند را حذف می‌کنیم.\n",
    "</font>\n",
    "</p>\n",
    "\n",
    "<div dir=rtl>\n",
    "<font face=\"B Nazanin\" size=4>\n",
    "یکی از روش‌های شناسایی و حذف داده‌های پرت، استفاده از چارک‌ها و نمودار جعبه‌ای می‌باشد.\n",
    "پس ابتدا نمودار جعبه‌ای ستون قیمت را رسم کنید.\n",
    "</font>\n",
    "</p>"
   ]
  },
  {
   "cell_type": "code",
   "execution_count": 67,
   "metadata": {
    "id": "EFB0JZB_dopr"
   },
   "outputs": [
    {
     "data": {
      "text/plain": [
       "<AxesSubplot: >"
      ]
     },
     "execution_count": 67,
     "metadata": {},
     "output_type": "execute_result"
    },
    {
     "data": {
      "image/png": "[encoded data removed]",
      "text/plain": [
       "<Figure size 1200x600 with 1 Axes>"
      ]
     },
     "metadata": {},
     "output_type": "display_data"
    }
   ],
   "source": [
    "plt.figure(figsize=(12, 6))\n",
    "sns.boxplot(data=data)"
   ]
  },
  {
   "cell_type": "code",
   "execution_count": 68,
   "metadata": {
    "id": "9Bradypjdopr"
   },
   "outputs": [
    {
     "data": {
      "image/png": "[encoded data removed]",
      "text/plain": [
       "<Figure size 640x480 with 1 Axes>"
      ]
     },
     "metadata": {},
     "output_type": "display_data"
    }
   ],
   "source": [
    "sns.boxplot(x=data[\"price\"])\n",
    "plt.show()\n"
   ]
  },
  {
   "cell_type": "code",
   "execution_count": 69,
   "metadata": {},
   "outputs": [
    {
     "data": {
      "image/png": "[encoded data removed]",
      "text/plain": [
       "<Figure size 640x480 with 1 Axes>"
      ]
     },
     "metadata": {},
     "output_type": "display_data"
    }
   ],
   "source": [
    "sns.boxplot(x=data[\"square_feet\"])\n",
    "plt.show()"
   ]
  },
  {
   "cell_type": "code",
   "execution_count": 70,
   "metadata": {},
   "outputs": [
    {
     "data": {
      "image/png": "[encoded data removed]",
      "text/plain": [
       "<Figure size 640x480 with 1 Axes>"
      ]
     },
     "metadata": {},
     "output_type": "display_data"
    }
   ],
   "source": [
    "sns.boxplot(x=data[\"bedrooms\"])\n",
    "plt.show()"
   ]
  },
  {
   "cell_type": "code",
   "execution_count": 71,
   "metadata": {},
   "outputs": [
    {
     "data": {
      "image/png": "[encoded data removed]",
      "text/plain": [
       "<Figure size 640x480 with 1 Axes>"
      ]
     },
     "metadata": {},
     "output_type": "display_data"
    }
   ],
   "source": [
    "sns.boxplot(x=data[\"bathrooms\"])\n",
    "plt.show()"
   ]
  },
  {
   "cell_type": "code",
   "execution_count": 72,
   "metadata": {},
   "outputs": [
    {
     "data": {
      "image/png": "[encoded data removed]",
      "text/plain": [
       "<Figure size 640x480 with 1 Axes>"
      ]
     },
     "metadata": {},
     "output_type": "display_data"
    }
   ],
   "source": [
    "sns.boxplot(x=data[\"latitude\"])\n",
    "plt.show()"
   ]
  },
  {
   "cell_type": "code",
   "execution_count": 73,
   "metadata": {},
   "outputs": [
    {
     "data": {
      "image/png": "[encoded data removed]",
      "text/plain": [
       "<Figure size 640x480 with 1 Axes>"
      ]
     },
     "metadata": {},
     "output_type": "display_data"
    }
   ],
   "source": [
    "sns.boxplot(x=data[\"longitude\"])\n",
    "plt.show()"
   ]
  },
  {
   "cell_type": "markdown",
   "metadata": {
    "id": "8N2GCl9Hdopr"
   },
   "source": [
    "<div dir=rtl>\n",
    "<font face=\"B Nazanin\" size=4>\n",
    "در صورتی که نمودار را به درستی رسم کرده باشید مشاهده خواهید کرد که بعضی از داده‌ها آنقدر پرت هستند که نمودار جعبه‌ای از حالت جعبه خارج شده است! نقاطی که در بالای نمودار هستند، داده‌های بسیار پرت می‌باشند.\n",
    "<br>\n",
    "داده‌های پرت ستون قیمت را با روش IQR با ضریب 1.5 حذف کنید و نمودار جعبه‌ای را مجددا رسم کنید.\n",
    "</font>\n",
    "</p>\n"
   ]
  },
  {
   "cell_type": "code",
   "execution_count": 74,
   "metadata": {},
   "outputs": [
    {
     "data": {
      "image/png": "[encoded data removed]",
      "text/plain": [
       "<Figure size 640x480 with 1 Axes>"
      ]
     },
     "metadata": {},
     "output_type": "display_data"
    }
   ],
   "source": [
    "Q1 = data[\"price\"].quantile(0.25)\n",
    "Q3 = data[\"price\"].quantile(0.75)\n",
    "\n",
    "IQR = Q3 - Q1\n",
    "\n",
    "lower_bound = Q1 - (1.5 * IQR)\n",
    "upper_bound = Q3 - (1.5 * IQR)\n",
    "\n",
    "cleaned_data = data[(data[\"price\"] >= lower_bound) & (data[\"price\"] <= upper_bound)]\n",
    "sns.boxplot(x=cleaned_data[\"price\"])\n",
    "plt.show()\n",
    "\n"
   ]
  },
  {
   "cell_type": "markdown",
   "metadata": {
    "id": "_rP8xRZTdops"
   },
   "source": [
    "<div dir=rtl>\n",
    "<font face=\"B Nazanin\" size=4>\n",
    "به طور مختصر توضیح دهید که روش IQR چگونه کار می‌کند.\n",
    "</font>\n",
    "</p>\n"
   ]
  },
  {
   "cell_type": "markdown",
   "metadata": {
    "id": "PpfVGWf0dops"
   },
   "source": [
    "<font face=\"B Nazanin\">\n",
    "<div dir=rtl>\n",
    "<p align=\"justify\">\n",
    "<font size=4>\n",
    "<b> <font color='#eb4034'> توضیحات پاسخ: </font></b>  لطفا اینجا بنویسید\n",
    "</p>\n",
    "</font>\n",
    "</div>\n",
    "</font>\n",
    "<hr>"
   ]
  },
  {
   "cell_type": "markdown",
   "metadata": {
    "id": "rgCjITLNdops"
   },
   "source": [
    "<div dir=rtl>\n",
    "<h2>\n",
    "<font face=\"B Nazanin\" color=\"#0099cc\">\n",
    "کاوش در داده‌ها\n",
    "</font>\n",
    "</h3>\n"
   ]
  },
  {
   "cell_type": "markdown",
   "metadata": {
    "id": "uSDHYgzHdops"
   },
   "source": [
    "<div dir=rtl>\n",
    "<h4>\n",
    "<font face=\"B Nazanin\">\n",
    "<b>1. همبستگی </b>\n",
    "</font>\n",
    "</h4>\n",
    "<div dir=rtl>\n",
    "<font face=\"B Nazanin\" size=4>\n",
    "ماتریس همبستگی (Correlation Matrix) داده‌ها را در قالب یک Heatmap مصور کنید.\n",
    "</font>\n",
    "</p>\n"
   ]
  },
  {
   "cell_type": "code",
   "execution_count": null,
   "metadata": {
    "id": "U-Cwz385dops"
   },
   "outputs": [],
   "source": [
    "#Fill here"
   ]
  },
  {
   "cell_type": "markdown",
   "metadata": {
    "id": "WTRCkBXcdops"
   },
   "source": [
    "<div dir=rtl>\n",
    "<font face=\"B Nazanin\" size=4>\n",
    "درمورد نمودار Heatmap و عملکرد آن به طور مختصر توضیح دهید. همچنین تحلیل خود از ویژگی‌هایی که همبستگی بالایی داشتد را نیز به طور خلاصه بنویسید.\n",
    "</font>\n",
    "</p>\n"
   ]
  },
  {
   "cell_type": "markdown",
   "metadata": {
    "id": "RTr0KBfNdopu"
   },
   "source": [
    "<font face=\"B Nazanin\">\n",
    "<div dir=rtl>\n",
    "<p align=\"justify\">\n",
    "<font size=4>\n",
    "<b> <font color='#eb4034'> توضیحات پاسخ: </font></b>  لطفا اینجا بنویسید\n",
    "</p>\n",
    "</font>\n",
    "</div>\n",
    "</font>\n",
    "<hr>"
   ]
  },
  {
   "cell_type": "markdown",
   "metadata": {
    "id": "J5rUgC9Ldopu"
   },
   "source": [
    "<div dir=rtl>\n",
    "<h4>\n",
    "<font face=\"B Nazanin\">\n",
    "<b>2. تاثیر ایالت بر قیمت </b>\n",
    "</font>\n",
    "</h4>\n",
    "\n",
    "<div dir=rtl>\n",
    "<font face=\"B Nazanin\" size=4>\n",
    "در این مجموعه داده، قیمت اجاره و متراژ هر خانه مشخص شده‌است،\n",
    "اما قیمت اجارهٔ هر فوت مربع خانه مشخص نیست. در ستون\n",
    "<code>pps</code>\n",
    "قیمت اجاره خانه‌ها را به ازای هر فوت مربع محاسبه و ذخیره کنید.\n",
    "</font>\n",
    "</p>"
   ]
  },
  {
   "cell_type": "code",
   "execution_count": null,
   "metadata": {
    "id": "yQT8c1Fodopu"
   },
   "outputs": [],
   "source": [
    "#Fill here\n",
    "data.head()"
   ]
  },
  {
   "cell_type": "markdown",
   "metadata": {
    "id": "Fo4OLlE8dopu"
   },
   "source": [
    "<div dir=rtl>\n",
    "<font face=\"B Nazanin\" size=4>\n",
    "حال می‌خواهیم 10 ایالت با بیشترین میانگین قیمت اجاره بر حسب فوت مربع را بررسی کنیم. این ایالت‌ها را به ترتیب نزولی میانگین قیمت اجاره بر حسب فوت مربع با استفاده از barplot نمایش دهید کنید.\n",
    "</font>\n",
    "</p>\n"
   ]
  },
  {
   "cell_type": "markdown",
   "metadata": {
    "id": "Nu1TUwbEdopu"
   },
   "source": [
    "<div dir=rtl>\n",
    "<font face=\"B Nazanin\" size=4>\n",
    " می‌توانید از توابع <code>groupby</code> و <code>sort_values</code> استفاده کنید.\n",
    "</font>\n",
    "</p>\n"
   ]
  },
  {
   "cell_type": "code",
   "execution_count": null,
   "metadata": {
    "id": "nDn89STfdopu"
   },
   "outputs": [],
   "source": [
    "#Fill here\n"
   ]
  },
  {
   "cell_type": "markdown",
   "metadata": {
    "id": "kywGssZ8dopu"
   },
   "source": [
    "<div dir=rtl>\n",
    "<h4>\n",
    "<font face=\"B Nazanin\">\n",
    "<b>3. تاثیر فاصله از مرکز شهر بر قیمت </b>\n",
    "</font>\n",
    "</h4>\n",
    "\n",
    "<div dir=rtl>\n",
    "<font face=\"B Nazanin\" size=4>\n",
    "در ادامه می‌خواهیم بررسی کنیم که تاثیر فاصله خانه از مرکز شهر بر قیمت اجاره هر فوت مربع خانه چگونه است. بدین منظور شهر دالاس را بررسی خواهیم کرد. ابتدا خانه‌هایی که در شهر دالاس قرار دارند را در یک دیتافریم جدید ذخیره کنید.\n",
    "</font>\n",
    "</p>"
   ]
  },
  {
   "cell_type": "code",
   "execution_count": null,
   "metadata": {
    "id": "KMiBJF0Cdopu"
   },
   "outputs": [],
   "source": [
    "dallas = #Fill here\n",
    "dallas.head()"
   ]
  },
  {
   "cell_type": "markdown",
   "metadata": {
    "id": "_1GlffvHdopu"
   },
   "source": [
    "<div dir=rtl>\n",
    "<font face=\"B Nazanin\" size=4>\n",
    "با داشتن طول و عرض جغرافیایی خانه‌ها و استفاده از نمودار پراکندگی (Scatter plot) می‌توانیم بررسی را انجام دهیم.\n",
    "رنگ هر نقطه باید نشان دهنده قیمت اجاره هر فوت مربع خانه باشد و نوار رنگ نشان دهنده قیمت‌های متانظر با طیف رنگی نیز باید در کنار نمودار نمایش داده شود. مختصات مرکز شهر دالاس در زیر آمده است. مرکز شهر را نیز با یک نقطه در نمودار نمایش دهید.\n",
    "</font>\n",
    "</p>\n"
   ]
  },
  {
   "cell_type": "markdown",
   "metadata": {
    "id": "xPyVR-MDdopv"
   },
   "source": [
    "$$\\text{latitude: } 32.77653 $$\n",
    "$$\\text{longitude: } -96.79708 $$"
   ]
  },
  {
   "cell_type": "markdown",
   "metadata": {
    "id": "VC7wI5UQdopw"
   },
   "source": [
    "<div dir=rtl>\n",
    "<font face=\"B Nazanin\" size=4>\n",
    "از آنجایی که تعداد نقاط زیاد است، بهتر است سایز نقاط را برابر با 10 قرار دهید تا نقاط بهتر نمایش داده شوند\n",
    "</font>\n",
    "</p>\n"
   ]
  },
  {
   "cell_type": "code",
   "execution_count": null,
   "metadata": {
    "id": "rAUKlBhtdopw"
   },
   "outputs": [],
   "source": [
    "fig, ax = plt.subplots(figsize = (9, 7)) #use this figure and axis to draw plot\n",
    "#Fill here"
   ]
  },
  {
   "cell_type": "markdown",
   "metadata": {
    "id": "kfI69KuXdopw"
   },
   "source": [
    "<div dir=rtl>\n",
    "<font face=\"B Nazanin\" size=4>\n",
    "می‌توان عکس این منطقه از جهان را پشت نقاط رسم شده قرار داد تا دیدی واقعی‌تر نسبت به محل قرار‌گیری خانه‌ها به‌دست آوریم. با استفاده از محدوده‌ی محور افقی و عمودی نمودار، محدوده‌ی مورد نظر را با استفاده از نقشه‌های گوگل دریافت کرده‌ایم که در عکس <code>dallas.png</code>  ذخیره شده است. با استفاده از متد <code>imshow</code> این عکس را پشت نمودار قرار می‌دهیم.\n",
    "خروجی مورد انتظار این تصویر است:\n",
    "</font>\n",
    "</p>\n",
    "\n",
    "\n",
    "<p style=\"text-align:center;\"><img src=\"./images/expected.png\" alt=\"dallas_plot\"></p>"
   ]
  },
  {
   "cell_type": "code",
   "execution_count": null,
   "metadata": {
    "id": "nIblIPIXdopw"
   },
   "outputs": [],
   "source": [
    "import matplotlib.image as mpimg\n",
    "img = mpimg.imread('dallas.png')\n",
    "ax.imshow(img, extent=[-97, -96.5, 32.55, 33.05], aspect='auto')\n",
    "fig"
   ]
  },
  {
   "cell_type": "markdown",
   "metadata": {
    "id": "m6Hm1-UEdopx"
   },
   "source": [
    "<div dir=rtl>\n",
    "<font face=\"B Nazanin\" size=4>\n",
    "برداشت خود را در رابطه با تاثیر فاصله خانه از مرکز شهر بر قیمت اجاره هر فوت مربع خانه بنویسید.\n",
    "</font>\n",
    "</p>\n"
   ]
  },
  {
   "cell_type": "markdown",
   "metadata": {
    "id": "0Pu9ki1vdopx"
   },
   "source": [
    "<font face=\"B Nazanin\">\n",
    "<div dir=rtl>\n",
    "<p align=\"justify\">\n",
    "<font size=4>\n",
    "<b> <font color='#eb4034'> توضیحات پاسخ: </font></b>  لطفا اینجا بنویسید\n",
    "</p>\n",
    "</font>\n",
    "</div>\n",
    "</font>\n",
    "<hr>"
   ]
  },
  {
   "cell_type": "markdown",
   "metadata": {
    "id": "PAQRRilbdopx"
   },
   "source": [
    "<div dir=rtl>\n",
    "<h4>\n",
    "<font face=\"B Nazanin\">\n",
    "<b>4. تاثیر شهر بر قیمت </b>\n",
    "</font>\n",
    "</h4>\n",
    "\n",
    "\n",
    "<div dir=rtl>\n",
    "<font face=\"B Nazanin\" size=4>\n",
    "در این بخش می‌خواهیم بررسی کنیم که در شهرهای مختلف یک ایالت قیمت اجاره هر فوت مربع خانه چگونه است. بدین منظور ایالت کالیفرنیا را بررسی خواهیم کرد. ابتدا خانه‌هایی که در این ایالت قرار دارند را در یک دیتافریم جدید ذخیره کنید.\n",
    "</font>\n",
    "</p>"
   ]
  },
  {
   "cell_type": "code",
   "execution_count": null,
   "metadata": {
    "id": "mPiiOmsYdopx"
   },
   "outputs": [],
   "source": [
    "CA = #Fill here"
   ]
  },
  {
   "cell_type": "markdown",
   "metadata": {
    "id": "ltqhxmemdopx"
   },
   "source": [
    "<div dir=rtl>\n",
    "<font face=\"B Nazanin\" size=4>\n",
    "به منظور نمایش بهتر داده‌ها در نمودار با استفاده از روش IQR با ضریب 1.5 داده‌های پرت را بر حسب ستون <code>pps</code> حذف کنید.\n",
    "</font>\n",
    "</p>"
   ]
  },
  {
   "cell_type": "code",
   "execution_count": null,
   "metadata": {
    "id": "1_PWQ1Godopx"
   },
   "outputs": [],
   "source": [
    "#Fill here"
   ]
  },
  {
   "cell_type": "markdown",
   "metadata": {
    "id": "k7Q1NZ9Ddopx"
   },
   "source": [
    "<div dir=rtl>\n",
    "<font face=\"B Nazanin\" size=4>\n",
    "حال با نمودار Scatter plot مشابه بخش قبل داده‌ها را نمایش دهید.\n",
    "تصویر <code>CA.png</code> شامل نقشه بخشی از ایالت کالیفرنیا می‌باشد که محدوده آن در زیر آمده است.\n",
    "</font>\n",
    "</p>"
   ]
  },
  {
   "cell_type": "markdown",
   "metadata": {
    "id": "uBRVf386dopy"
   },
   "source": [
    "$$\\text{latitude: } 33.0391 \\rightarrow 38.7586$$\n",
    "$$\\text{longitude: }-123.6021 \\rightarrow  -116.5354$$"
   ]
  },
  {
   "cell_type": "markdown",
   "metadata": {
    "id": "p_lEKeoNdopy"
   },
   "source": [
    "<div dir=rtl>\n",
    "<font face=\"B Nazanin\" size=4>\n",
    "توجه شود که در این بخش علاوه بر مشخص کردن محدوده تصویر، محدوده کلی نمودار را نیز باید به مختصات‌های گفته شده محدود کنید زیرا داده‌های ما شامل تمام داده‌های ایالت کالیفرنیا می‌باشد و در صورتی که محدوده نمودار مشخص نشود، داده‌های خارج از محدوده نقشه نیز نمایش داده خواهند شد.\n",
    "</font>\n",
    "</p>\n"
   ]
  },
  {
   "cell_type": "code",
   "execution_count": null,
   "metadata": {
    "id": "82D_vxKRdopy"
   },
   "outputs": [],
   "source": [
    "fig, ax = plt.subplots(figsize = (10, 8)) #use this figure and axis to draw plot\n",
    "#Fill here\n",
    "\n",
    "plt.show()"
   ]
  },
  {
   "cell_type": "markdown",
   "metadata": {
    "id": "NZgzF-tydopy"
   },
   "source": [
    "<div dir=rtl>\n",
    "<font face=\"B Nazanin\" size=4>\n",
    "برداشت خود را در رابطه با تاثیر شهر بر قیمت اجاره هر فوت مربع خانه بنویسید.\n",
    "</font>\n",
    "</p>\n"
   ]
  },
  {
   "cell_type": "markdown",
   "metadata": {
    "id": "JwxVIi2sdopy"
   },
   "source": [
    "<font face=\"B Nazanin\">\n",
    "<div dir=rtl>\n",
    "<p align=\"justify\">\n",
    "<font size=4>\n",
    "<b> <font color='#eb4034'> توضیحات پاسخ: </font></b>  لطفا اینجا بنویسید\n",
    "</p>\n",
    "</font>\n",
    "</div>\n",
    "</font>\n",
    "<hr>"
   ]
  },
  {
   "cell_type": "markdown",
   "metadata": {
    "id": "uZI3lGBcdopz"
   },
   "source": [
    "<div dir=rtl>\n",
    "<h4>\n",
    "<font face=\"B Nazanin\">\n",
    "<b>5. رابطه بین متراژ و قیمت </b>\n",
    "</font>\n",
    "</h4>\n",
    "\n",
    "\n",
    "<div dir=rtl>\n",
    "<font face=\"B Nazanin\" size=4>\n",
    "با استفاده از نمودار توام (Joint plot) رابطه بین متراژ خانه و قیمت اجاره خانه در شهر دالاس را بررسی کنید.\n",
    "</font>\n",
    "</p>"
   ]
  },
  {
   "cell_type": "code",
   "execution_count": null,
   "metadata": {
    "id": "YILMZqsidopz"
   },
   "outputs": [],
   "source": [
    "#Fill here"
   ]
  },
  {
   "cell_type": "markdown",
   "metadata": {
    "id": "F3KsFKnzdopz"
   },
   "source": [
    "<div dir=rtl>\n",
    "<font face=\"B Nazanin\" size=4>\n",
    "برداشت شما از نمودار چیست؟ همچنین در رابطه با نحوه‌ی رسم این نمودار و کاربرد‌های آن توضیح دهید.\n",
    "</font>\n",
    "</p>\n"
   ]
  },
  {
   "cell_type": "markdown",
   "metadata": {
    "id": "8XRQ7ZdNdopz"
   },
   "source": [
    "<font face=\"B Nazanin\">\n",
    "<div dir=rtl>\n",
    "<p align=\"justify\">\n",
    "<font size=4>\n",
    "<b> <font color='#eb4034'> توضیحات پاسخ: </font></b>  لطفا اینجا بنویسید\n",
    "</p>\n",
    "</font>\n",
    "</div>\n",
    "</font>\n",
    "<hr>"
   ]
  },
  {
   "cell_type": "markdown",
   "metadata": {
    "id": "tXCYxOZudop0"
   },
   "source": [
    "<div dir=rtl>\n",
    "<h4>\n",
    "<font face=\"B Nazanin\">\n",
    "<b>6. تاثیر آسانسور بر قیمت</b>\n",
    "</font>\n",
    "</h4>\n",
    "\n",
    "\n",
    "<div dir=rtl>\n",
    "<font face=\"B Nazanin\" size=4>\n",
    "در این بخش می‌خواهیم تاثیر آسانسور بر قیمت اجاره خانه را بررسی کنیم. با نمودار Kdeplot توزیع قیمت اجاره خانه‌هایی که دارای آسانسور هستند و خانه‌هایی که آسانسور ندارند را بررسی کنید.\n",
    "<br>\n",
    "وجود یا عدم وجود آسانسور باید از ستون <code>amenities</code> استخراج شود. در صورتی که خانه‌ای دارای آسانسور باشد در ستون <code>amenities</code> عبارت <code>Elevator</code> وجود دارد.\n",
    "</font>\n",
    "</p>\n"
   ]
  },
  {
   "cell_type": "markdown",
   "metadata": {
    "id": "4jn4bktodop0"
   },
   "source": [
    "<div dir=rtl>\n",
    "<font face=\"B Nazanin\" size=4>\n",
    "نمودار Kdeplot هر دو دسته را در یک Axes نمایش دهید.\n",
    "</font>\n",
    "</p>\n"
   ]
  },
  {
   "cell_type": "code",
   "execution_count": null,
   "metadata": {
    "id": "cLwnK1d4dop0"
   },
   "outputs": [],
   "source": [
    "fig, ax = plt.subplots(figsize=(10, 6)) #use this figure and axis to draw plot\n",
    "#Fill here"
   ]
  },
  {
   "cell_type": "markdown",
   "metadata": {
    "id": "cRc0M9cudop0"
   },
   "source": [
    "<div dir=rtl>\n",
    "<font face=\"B Nazanin\" size=4>\n",
    "برداشت خود را در رابطه با تاثیر آسانسور بر قیمت اجاره خانه بنویسید.\n",
    "</font>\n",
    "</p>\n"
   ]
  },
  {
   "cell_type": "markdown",
   "metadata": {
    "id": "HvAf0-APdop0"
   },
   "source": [
    "<font face=\"B Nazanin\">\n",
    "<div dir=rtl>\n",
    "<p align=\"justify\">\n",
    "<font size=4>\n",
    "<b> <font color='#eb4034'> توضیحات پاسخ: </font></b>  لطفا اینجا بنویسید\n",
    "</p>\n",
    "</font>\n",
    "</div>\n",
    "</font>\n",
    "<hr>"
   ]
  },
  {
   "cell_type": "markdown",
   "metadata": {
    "id": "TuDJPB5Ndop0"
   },
   "source": [
    "<div dir=rtl>\n",
    "<h4>\n",
    "<font face=\"B Nazanin\">\n",
    "<b>7. بررسی توزیع قیمت</b>\n",
    "</font>\n",
    "</h4>\n",
    "\n",
    "\n",
    "<div dir=rtl>\n",
    "<font face=\"B Nazanin\" size=4>\n",
    "در این بخش می‌خواهیم توزیع قیمت اجاره خانه‌ها در دو ایالت واشنگتون و تگزاس را بررسی کنیم. برای این کار ابتدا خانه‌هایی که در این دو ایالت قرار دارند را در یک دیتافریم جدید ذخیره کنید و سپس با نمودار ویالنی (Violin plot) توزیع قیمت اجاره خانه‌ها را برای این دو ایالت نمایش دهید.\n",
    "</font>\n",
    "</p>\n"
   ]
  },
  {
   "cell_type": "code",
   "execution_count": null,
   "metadata": {
    "id": "eHnCiPZHdop1"
   },
   "outputs": [],
   "source": [
    "filtered_df = #Fill here\n",
    "\n",
    "fig, ax = plt.subplots(figsize=(10, 6)) #use this figure and axis to draw plot\n",
    "#Fill here"
   ]
  },
  {
   "cell_type": "markdown",
   "metadata": {
    "id": "nHdGOCgtdop1"
   },
   "source": [
    "<div dir=rtl>\n",
    "<font face=\"B Nazanin\" size=4>\n",
    "تحلیل خود از نمودار را بنویسید. همچنین توضیح دهید که نمودار ویالنی برای تحلیل بصری در چه مواقعی مناسب است.\n",
    "</font>\n",
    "</p>\n"
   ]
  },
  {
   "cell_type": "markdown",
   "metadata": {
    "id": "ty3d33ycdop1"
   },
   "source": [
    "<font face=\"B Nazanin\">\n",
    "<div dir=rtl>\n",
    "<p align=\"justify\">\n",
    "<font size=4>\n",
    "<b> <font color='#eb4034'> توضیحات پاسخ: </font></b>  لطفا اینجا بنویسید\n",
    "</p>\n",
    "</font>\n",
    "</div>\n",
    "</font>\n",
    "<hr>"
   ]
  },
  {
   "cell_type": "markdown",
   "metadata": {
    "id": "vlNmGem-dop1"
   },
   "source": [
    "<div dir=rtl>\n",
    "<h4>\n",
    "<font face=\"B Nazanin\">\n",
    "<b>8. تاثیر استاندارد سازی</b>\n",
    "</font>\n",
    "</h4>\n",
    "\n",
    "\n",
    "<div dir=rtl>\n",
    "<font face=\"B Nazanin\" size=4>\n",
    "در این بخش می‌خواهیم تاثیر استاندارد سازی بر ویژگی‌ها را بررسی کنیم. در تصویر زیر نمودار پراکندگی برای دو ویژگی <code>price</code> و <code>bedrooms</code> رسم شده است.\n",
    "همانطور که مشاهده می‌کنید در صورتی که بازه نمودار در هر دو محور را یکسان در نظر بگیریم، اطلاعات مفیدی از نمودار قابل برداشت نمی‌باشد.\n",
    "<br>\n",
    "یک کپی از دیتافریم بگیرید و در دیتافریم جدید این دو ویژگی را استاندارد کنید و سپس نمودار را مجددا رسم کنید.\n",
    "</font>\n",
    "</p>\n",
    "<p style=\"text-align:center;\"><img src=\"./images/scatter.png\" alt=\"Scatter Plot\", width=700></p>\n"
   ]
  },
  {
   "cell_type": "code",
   "execution_count": null,
   "metadata": {
    "id": "X9qcfbw8dop1"
   },
   "outputs": [],
   "source": [
    "data_copy = #Fill here\n",
    "#Fill here"
   ]
  },
  {
   "cell_type": "markdown",
   "metadata": {
    "id": "MPrTsIg0dop1"
   },
   "source": [
    "<div dir=rtl>\n",
    "<font face=\"B Nazanin\" size=4>\n",
    "استاندارد سازی چه تاثیری بر نمودار داشت؟ همچنین به طور مختصر بررسی کنید که استاندارد‌سازی ویژگی‌ها چگونه می‌تواند باعث بهبود الگوریتم‌های یادگیری ماشین شود.\n",
    "</font>\n",
    "</p>\n"
   ]
  },
  {
   "cell_type": "markdown",
   "metadata": {
    "id": "JBL5rTpadop2"
   },
   "source": [
    "<font face=\"B Nazanin\">\n",
    "<div dir=rtl>\n",
    "<p align=\"justify\">\n",
    "<font size=4>\n",
    "<b> <font color='#eb4034'> توضیحات پاسخ: </font></b>  لطفا اینجا بنویسید\n",
    "</p>\n",
    "</font>\n",
    "</div>\n",
    "</font>\n",
    "<hr>"
   ]
  },
  {
   "cell_type": "markdown",
   "metadata": {
    "id": "YgCzOuHZClQl"
   },
   "source": [
    "<div dir=rtl>\n",
    "<h2>\n",
    "<font face=\"B Nazanin\" color=\"#0099cc\">\n",
    "بخش امتیازی"
   ]
  },
  {
   "cell_type": "markdown",
   "metadata": {
    "id": "JOZE25DwHh78"
   },
   "source": [
    "<div dir=rtl>\n",
    "<font face=\"B Nazanin\" size=4>\n",
    "<b> <font color='#eb4034'> تذکر: </font></b>\n",
    "برای دریافت نمره‌ی امتیازی، تنها کافیست به یکی از دو مورد (الف) یا (ب) پاسخ دهید. پاسخ‌دهی به هر دو سوال نمره‌ی مازاد نخواهد داشت."
   ]
  },
  {
   "cell_type": "markdown",
   "metadata": {
    "id": "G6vtnSsTCsna"
   },
   "source": [
    "<div dir=rtl>\n",
    "<font face=\"B Nazanin\" size=4>\n",
    "الف) در مورد مفاهیم کشیدگی (Kurtosis) و چولگی (Skewness) حول توزیع‌های آماری مطالعه کنید و به دو سوال زیر پاسخ دهید:\n",
    "<ol>\n",
    "  <li>\n",
    "    این معیار‌ها به بررسی چه خواصی از یک توزیع آماری کمک می‌کنند؟\n",
    "  </li>\n",
    "  <li>\n",
    "  در مورد توزیع نرمال به خصوص، چگونه می‌توان بدون بررسی مستقیم نمودار و با استفاده از معیار‌های آماری ساده، شکل چولگی نمودار را تشخیص داد؟\n",
    "  شکل چولگی ویژگی <code>price</code> را بر این اساس حدس بزنید و حدس خود را با رسم نمودار تایید کنید.\n",
    "  </li>\n",
    "</ol>\n",
    "</font>\n",
    "</p>\n"
   ]
  },
  {
   "cell_type": "markdown",
   "metadata": {
    "id": "J44eZneFFa49"
   },
   "source": [
    "<div dir=rtl>\n",
    "<font face=\"B Nazanin\" size=4>\n",
    "ب) در مورد روش حذف مقادیر پرت به کمک معیار Z-score مطالعه کنید.\n",
    "     برای ویژگی <code>price</code> قبل‌تر از طریق روش IQR مقادیر پرت را حذف کرده بودیم، این بار با استفاده از روش Z-score مقادیر پرت را با آستانه Z = ±3\n",
    "     حذف کنید.\n",
    "     برای حذف مقادیر پرت، از توابع آماده‌ای که مستقیما Z-score را محاسبه می‌کنند استفاده نکنید.\n",
    "</div>\n",
    "</font>\n"
   ]
  }
 ],
 "metadata": {
  "colab": {
   "provenance": []
  },
  "kernelspec": {
   "display_name": "Python 3 (ipykernel)",
   "language": "python",
   "name": "python3"
  },
  "language_info": {
   "codemirror_mode": {
    "name": "ipython",
    "version": 3
   },
   "file_extension": ".py",
   "mimetype": "text/x-python",
   "name": "python",
   "nbconvert_exporter": "python",
   "pygments_lexer": "ipython3",
   "version": "3.12.3"
  }
 },
 "nbformat": 4,
 "nbformat_minor": 1
}
